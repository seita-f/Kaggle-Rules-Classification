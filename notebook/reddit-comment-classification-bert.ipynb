{
 "cells": [
  {
   "cell_type": "code",
   "execution_count": 1,
   "id": "bee7adda",
   "metadata": {
    "_cell_guid": "b1076dfc-b9ad-4769-8c92-a6c4dae69d19",
    "_uuid": "8f2839f25d086af736a60e9eeb907d3b93b6e0e5",
    "execution": {
     "iopub.execute_input": "2025-10-20T00:12:37.320673Z",
     "iopub.status.busy": "2025-10-20T00:12:37.320440Z",
     "iopub.status.idle": "2025-10-20T00:13:07.540982Z",
     "shell.execute_reply": "2025-10-20T00:13:07.540142Z"
    },
    "papermill": {
     "duration": 30.233,
     "end_time": "2025-10-20T00:13:07.542541",
     "exception": false,
     "start_time": "2025-10-20T00:12:37.309541",
     "status": "completed"
    },
    "tags": []
   },
   "outputs": [
    {
     "name": "stderr",
     "output_type": "stream",
     "text": [
      "2025-10-20 00:12:56.027962: E external/local_xla/xla/stream_executor/cuda/cuda_fft.cc:477] Unable to register cuFFT factory: Attempting to register factory for plugin cuFFT when one has already been registered\n",
      "WARNING: All log messages before absl::InitializeLog() is called are written to STDERR\n",
      "E0000 00:00:1760919176.244001      19 cuda_dnn.cc:8310] Unable to register cuDNN factory: Attempting to register factory for plugin cuDNN when one has already been registered\n",
      "E0000 00:00:1760919176.308585      19 cuda_blas.cc:1418] Unable to register cuBLAS factory: Attempting to register factory for plugin cuBLAS when one has already been registered\n"
     ]
    }
   ],
   "source": [
    "import numpy as np # linear algebra\n",
    "import pandas as pd # data processing, CSV file I/O (e.g. pd.read_csv)\n",
    "import matplotlib.pyplot as plt\n",
    "import seaborn as sns\n",
    "\n",
    "import os\n",
    "import re\n",
    "\n",
    "# for dirname, _, filenames in os.walk('/kaggle/input'):\n",
    "#     for filename in filenames:\n",
    "#         print(os.path.join(dirname, filename))\n",
    "\n",
    "from sklearn.model_selection import train_test_split\n",
    "from transformers import BertTokenizer, BertForSequenceClassification, BertConfig\n",
    "\n",
    "os.environ[\"CUDA_LAUNCH_BLOCKING\"] = \"1\""
   ]
  },
  {
   "cell_type": "code",
   "execution_count": 2,
   "id": "b035e943",
   "metadata": {
    "execution": {
     "iopub.execute_input": "2025-10-20T00:13:07.562425Z",
     "iopub.status.busy": "2025-10-20T00:13:07.561890Z",
     "iopub.status.idle": "2025-10-20T00:13:07.565772Z",
     "shell.execute_reply": "2025-10-20T00:13:07.565056Z"
    },
    "papermill": {
     "duration": 0.015047,
     "end_time": "2025-10-20T00:13:07.566881",
     "exception": false,
     "start_time": "2025-10-20T00:13:07.551834",
     "status": "completed"
    },
    "tags": []
   },
   "outputs": [],
   "source": [
    "SEED = 42\n",
    "batch_size = 32\n",
    "token_max_length = 256"
   ]
  },
  {
   "cell_type": "code",
   "execution_count": 3,
   "id": "e2895b38",
   "metadata": {
    "execution": {
     "iopub.execute_input": "2025-10-20T00:13:07.590960Z",
     "iopub.status.busy": "2025-10-20T00:13:07.590522Z",
     "iopub.status.idle": "2025-10-20T00:13:07.657780Z",
     "shell.execute_reply": "2025-10-20T00:13:07.656880Z"
    },
    "papermill": {
     "duration": 0.080304,
     "end_time": "2025-10-20T00:13:07.659191",
     "exception": false,
     "start_time": "2025-10-20T00:13:07.578887",
     "status": "completed"
    },
    "tags": []
   },
   "outputs": [
    {
     "name": "stdout",
     "output_type": "stream",
     "text": [
      "train size:  (2029, 9)\n",
      "test size:  (10, 8)\n"
     ]
    }
   ],
   "source": [
    "df_train = pd.read_csv(\"/kaggle/input/jigsaw-agile-community-rules/train.csv\")\n",
    "df_test = pd.read_csv(\"/kaggle/input/jigsaw-agile-community-rules/test.csv\")\n",
    "sample_submission = pd.read_csv(\"/kaggle/input/jigsaw-agile-community-rules/sample_submission.csv\")\n",
    "\n",
    "print(\"train size: \", df_train.shape)\n",
    "print(\"test size: \", df_test.shape)"
   ]
  },
  {
   "cell_type": "code",
   "execution_count": 4,
   "id": "2aed03d7",
   "metadata": {
    "execution": {
     "iopub.execute_input": "2025-10-20T00:13:07.680021Z",
     "iopub.status.busy": "2025-10-20T00:13:07.679581Z",
     "iopub.status.idle": "2025-10-20T00:13:07.702684Z",
     "shell.execute_reply": "2025-10-20T00:13:07.701967Z"
    },
    "papermill": {
     "duration": 0.035305,
     "end_time": "2025-10-20T00:13:07.704026",
     "exception": false,
     "start_time": "2025-10-20T00:13:07.668721",
     "status": "completed"
    },
    "tags": []
   },
   "outputs": [
    {
     "data": {
      "text/html": [
       "<div>\n",
       "<style scoped>\n",
       "    .dataframe tbody tr th:only-of-type {\n",
       "        vertical-align: middle;\n",
       "    }\n",
       "\n",
       "    .dataframe tbody tr th {\n",
       "        vertical-align: top;\n",
       "    }\n",
       "\n",
       "    .dataframe thead th {\n",
       "        text-align: right;\n",
       "    }\n",
       "</style>\n",
       "<table border=\"1\" class=\"dataframe\">\n",
       "  <thead>\n",
       "    <tr style=\"text-align: right;\">\n",
       "      <th></th>\n",
       "      <th>row_id</th>\n",
       "      <th>body</th>\n",
       "      <th>rule</th>\n",
       "      <th>subreddit</th>\n",
       "      <th>positive_example_1</th>\n",
       "      <th>positive_example_2</th>\n",
       "      <th>negative_example_1</th>\n",
       "      <th>negative_example_2</th>\n",
       "      <th>rule_violation</th>\n",
       "    </tr>\n",
       "  </thead>\n",
       "  <tbody>\n",
       "    <tr>\n",
       "      <th>0</th>\n",
       "      <td>0</td>\n",
       "      <td>Banks don't want you to know this! Click here ...</td>\n",
       "      <td>No Advertising: Spam, referral links, unsolici...</td>\n",
       "      <td>Futurology</td>\n",
       "      <td>If you could tell your younger self something ...</td>\n",
       "      <td>hunt for lady for jack off in neighbourhood ht...</td>\n",
       "      <td>Watch Golden Globe Awards 2017 Live Online in ...</td>\n",
       "      <td>DOUBLE CEE x BANDS EPPS - \"BIRDS\"\\n\\nDOWNLOAD/...</td>\n",
       "      <td>0</td>\n",
       "    </tr>\n",
       "    <tr>\n",
       "      <th>1</th>\n",
       "      <td>1</td>\n",
       "      <td>SD Stream [ ENG Link 1] (http://www.sportsstre...</td>\n",
       "      <td>No Advertising: Spam, referral links, unsolici...</td>\n",
       "      <td>soccerstreams</td>\n",
       "      <td>[I wanna kiss you all over! Stunning!](http://...</td>\n",
       "      <td>LOLGA.COM is One of the First Professional Onl...</td>\n",
       "      <td>#Rapper \\n🚨Straight Outta Cross Keys SC 🚨YouTu...</td>\n",
       "      <td>[15 Amazing Hidden Features Of Google Search Y...</td>\n",
       "      <td>0</td>\n",
       "    </tr>\n",
       "    <tr>\n",
       "      <th>2</th>\n",
       "      <td>2</td>\n",
       "      <td>Lol. Try appealing the ban and say you won't d...</td>\n",
       "      <td>No legal advice: Do not offer or request legal...</td>\n",
       "      <td>pcmasterrace</td>\n",
       "      <td>Don't break up with him or call the cops.  If ...</td>\n",
       "      <td>It'll be dismissed: https://en.wikipedia.org/w...</td>\n",
       "      <td>Where is there a site that still works where y...</td>\n",
       "      <td>Because this statement of his is true. It isn'...</td>\n",
       "      <td>1</td>\n",
       "    </tr>\n",
       "    <tr>\n",
       "      <th>3</th>\n",
       "      <td>3</td>\n",
       "      <td>she will come your home open her legs with  an...</td>\n",
       "      <td>No Advertising: Spam, referral links, unsolici...</td>\n",
       "      <td>sex</td>\n",
       "      <td>Selling Tyrande codes for 3€ to paypal. PM. \\n...</td>\n",
       "      <td>tight pussy watch for your cock get her at thi...</td>\n",
       "      <td>NSFW(obviously) http://spankbang.com/iy3u/vide...</td>\n",
       "      <td>Good News ::Download WhatsApp 2.16.230 APK for...</td>\n",
       "      <td>1</td>\n",
       "    </tr>\n",
       "    <tr>\n",
       "      <th>4</th>\n",
       "      <td>4</td>\n",
       "      <td>code free tyrande ---&gt;&gt;&gt; [Imgur](http://i.imgu...</td>\n",
       "      <td>No Advertising: Spam, referral links, unsolici...</td>\n",
       "      <td>hearthstone</td>\n",
       "      <td>wow!! amazing reminds me of the old days.Well...</td>\n",
       "      <td>seek for lady for sex in around http://p77.pl/...</td>\n",
       "      <td>must be watch movie https://sites.google.com/s...</td>\n",
       "      <td>We're streaming Pokemon Veitnamese Crystal RIG...</td>\n",
       "      <td>1</td>\n",
       "    </tr>\n",
       "    <tr>\n",
       "      <th>5</th>\n",
       "      <td>5</td>\n",
       "      <td>I live in the US it's it possible to get in tr...</td>\n",
       "      <td>No legal advice: Do not offer or request legal...</td>\n",
       "      <td>soccerstreams</td>\n",
       "      <td>Public School? You are under no legal obligati...</td>\n",
       "      <td>OP, you need to get the fuck away from your bo...</td>\n",
       "      <td>It looks like it could be a sterile cotton swa...</td>\n",
       "      <td>That is called battery.  Two wrongs don't make...</td>\n",
       "      <td>0</td>\n",
       "    </tr>\n",
       "    <tr>\n",
       "      <th>6</th>\n",
       "      <td>6</td>\n",
       "      <td>young kitty watching for your buddy get her he...</td>\n",
       "      <td>No Advertising: Spam, referral links, unsolici...</td>\n",
       "      <td>sex</td>\n",
       "      <td>Save on Medicine!!  Save over $700 a month on ...</td>\n",
       "      <td>Make your life comfortable. Get up to 15% Disc...</td>\n",
       "      <td>They have nothing on the platypus though goo.g...</td>\n",
       "      <td>Try and see if someone at www.siddhantayoga.co...</td>\n",
       "      <td>0</td>\n",
       "    </tr>\n",
       "    <tr>\n",
       "      <th>7</th>\n",
       "      <td>7</td>\n",
       "      <td>[liệt dương](http://namkhoathientam.com/nguyen...</td>\n",
       "      <td>No Advertising: Spam, referral links, unsolici...</td>\n",
       "      <td>gifs</td>\n",
       "      <td>EARN MONEY in online . Just Sign up and View f...</td>\n",
       "      <td>You can use www.easy-lol.com/probuilds/\\n\\nIt ...</td>\n",
       "      <td>HD | [English Stream](http://www.ufc187livestr...</td>\n",
       "      <td>* **SD - http://livestreamnba.ru/2016/12/19/pr...</td>\n",
       "      <td>0</td>\n",
       "    </tr>\n",
       "    <tr>\n",
       "      <th>8</th>\n",
       "      <td>8</td>\n",
       "      <td>Maybe true, but that's very short-sighted. The...</td>\n",
       "      <td>No legal advice: Do not offer or request legal...</td>\n",
       "      <td>The_Donald</td>\n",
       "      <td>OP, you need to get the fuck away from your bo...</td>\n",
       "      <td>Steal the dogs back and put a lean on all her ...</td>\n",
       "      <td>Is this 100% legal tho? Are their any copyrigh...</td>\n",
       "      <td>If you masturbate before the age of 18, you're...</td>\n",
       "      <td>1</td>\n",
       "    </tr>\n",
       "    <tr>\n",
       "      <th>9</th>\n",
       "      <td>9</td>\n",
       "      <td>you can sue them for negligence and try and re...</td>\n",
       "      <td>No legal advice: Do not offer or request legal...</td>\n",
       "      <td>legaladvice</td>\n",
       "      <td>IIRC the laws require photo id, and social sec...</td>\n",
       "      <td>Tell them you want to take possession of the a...</td>\n",
       "      <td>That is called battery.  Two wrongs don't make...</td>\n",
       "      <td>Heard you might have their address, it could b...</td>\n",
       "      <td>1</td>\n",
       "    </tr>\n",
       "  </tbody>\n",
       "</table>\n",
       "</div>"
      ],
      "text/plain": [
       "   row_id                                               body  \\\n",
       "0       0  Banks don't want you to know this! Click here ...   \n",
       "1       1  SD Stream [ ENG Link 1] (http://www.sportsstre...   \n",
       "2       2  Lol. Try appealing the ban and say you won't d...   \n",
       "3       3  she will come your home open her legs with  an...   \n",
       "4       4  code free tyrande --->>> [Imgur](http://i.imgu...   \n",
       "5       5  I live in the US it's it possible to get in tr...   \n",
       "6       6  young kitty watching for your buddy get her he...   \n",
       "7       7  [liệt dương](http://namkhoathientam.com/nguyen...   \n",
       "8       8  Maybe true, but that's very short-sighted. The...   \n",
       "9       9  you can sue them for negligence and try and re...   \n",
       "\n",
       "                                                rule      subreddit  \\\n",
       "0  No Advertising: Spam, referral links, unsolici...     Futurology   \n",
       "1  No Advertising: Spam, referral links, unsolici...  soccerstreams   \n",
       "2  No legal advice: Do not offer or request legal...   pcmasterrace   \n",
       "3  No Advertising: Spam, referral links, unsolici...            sex   \n",
       "4  No Advertising: Spam, referral links, unsolici...    hearthstone   \n",
       "5  No legal advice: Do not offer or request legal...  soccerstreams   \n",
       "6  No Advertising: Spam, referral links, unsolici...            sex   \n",
       "7  No Advertising: Spam, referral links, unsolici...           gifs   \n",
       "8  No legal advice: Do not offer or request legal...     The_Donald   \n",
       "9  No legal advice: Do not offer or request legal...    legaladvice   \n",
       "\n",
       "                                  positive_example_1  \\\n",
       "0  If you could tell your younger self something ...   \n",
       "1  [I wanna kiss you all over! Stunning!](http://...   \n",
       "2  Don't break up with him or call the cops.  If ...   \n",
       "3  Selling Tyrande codes for 3€ to paypal. PM. \\n...   \n",
       "4   wow!! amazing reminds me of the old days.Well...   \n",
       "5  Public School? You are under no legal obligati...   \n",
       "6  Save on Medicine!!  Save over $700 a month on ...   \n",
       "7  EARN MONEY in online . Just Sign up and View f...   \n",
       "8  OP, you need to get the fuck away from your bo...   \n",
       "9  IIRC the laws require photo id, and social sec...   \n",
       "\n",
       "                                  positive_example_2  \\\n",
       "0  hunt for lady for jack off in neighbourhood ht...   \n",
       "1  LOLGA.COM is One of the First Professional Onl...   \n",
       "2  It'll be dismissed: https://en.wikipedia.org/w...   \n",
       "3  tight pussy watch for your cock get her at thi...   \n",
       "4  seek for lady for sex in around http://p77.pl/...   \n",
       "5  OP, you need to get the fuck away from your bo...   \n",
       "6  Make your life comfortable. Get up to 15% Disc...   \n",
       "7  You can use www.easy-lol.com/probuilds/\\n\\nIt ...   \n",
       "8  Steal the dogs back and put a lean on all her ...   \n",
       "9  Tell them you want to take possession of the a...   \n",
       "\n",
       "                                  negative_example_1  \\\n",
       "0  Watch Golden Globe Awards 2017 Live Online in ...   \n",
       "1  #Rapper \\n🚨Straight Outta Cross Keys SC 🚨YouTu...   \n",
       "2  Where is there a site that still works where y...   \n",
       "3  NSFW(obviously) http://spankbang.com/iy3u/vide...   \n",
       "4  must be watch movie https://sites.google.com/s...   \n",
       "5  It looks like it could be a sterile cotton swa...   \n",
       "6  They have nothing on the platypus though goo.g...   \n",
       "7  HD | [English Stream](http://www.ufc187livestr...   \n",
       "8  Is this 100% legal tho? Are their any copyrigh...   \n",
       "9  That is called battery.  Two wrongs don't make...   \n",
       "\n",
       "                                  negative_example_2  rule_violation  \n",
       "0  DOUBLE CEE x BANDS EPPS - \"BIRDS\"\\n\\nDOWNLOAD/...               0  \n",
       "1  [15 Amazing Hidden Features Of Google Search Y...               0  \n",
       "2  Because this statement of his is true. It isn'...               1  \n",
       "3  Good News ::Download WhatsApp 2.16.230 APK for...               1  \n",
       "4  We're streaming Pokemon Veitnamese Crystal RIG...               1  \n",
       "5  That is called battery.  Two wrongs don't make...               0  \n",
       "6  Try and see if someone at www.siddhantayoga.co...               0  \n",
       "7  * **SD - http://livestreamnba.ru/2016/12/19/pr...               0  \n",
       "8  If you masturbate before the age of 18, you're...               1  \n",
       "9  Heard you might have their address, it could b...               1  "
      ]
     },
     "execution_count": 4,
     "metadata": {},
     "output_type": "execute_result"
    }
   ],
   "source": [
    "df_train.head(10)"
   ]
  },
  {
   "cell_type": "code",
   "execution_count": 5,
   "id": "5c835337",
   "metadata": {
    "execution": {
     "iopub.execute_input": "2025-10-20T00:13:07.726226Z",
     "iopub.status.busy": "2025-10-20T00:13:07.725594Z",
     "iopub.status.idle": "2025-10-20T00:13:07.735232Z",
     "shell.execute_reply": "2025-10-20T00:13:07.734569Z"
    },
    "papermill": {
     "duration": 0.021561,
     "end_time": "2025-10-20T00:13:07.736412",
     "exception": false,
     "start_time": "2025-10-20T00:13:07.714851",
     "status": "completed"
    },
    "tags": []
   },
   "outputs": [
    {
     "data": {
      "text/html": [
       "<div>\n",
       "<style scoped>\n",
       "    .dataframe tbody tr th:only-of-type {\n",
       "        vertical-align: middle;\n",
       "    }\n",
       "\n",
       "    .dataframe tbody tr th {\n",
       "        vertical-align: top;\n",
       "    }\n",
       "\n",
       "    .dataframe thead th {\n",
       "        text-align: right;\n",
       "    }\n",
       "</style>\n",
       "<table border=\"1\" class=\"dataframe\">\n",
       "  <thead>\n",
       "    <tr style=\"text-align: right;\">\n",
       "      <th></th>\n",
       "      <th>row_id</th>\n",
       "      <th>body</th>\n",
       "      <th>rule</th>\n",
       "      <th>subreddit</th>\n",
       "      <th>positive_example_1</th>\n",
       "      <th>positive_example_2</th>\n",
       "      <th>negative_example_1</th>\n",
       "      <th>negative_example_2</th>\n",
       "    </tr>\n",
       "  </thead>\n",
       "  <tbody>\n",
       "    <tr>\n",
       "      <th>0</th>\n",
       "      <td>2029</td>\n",
       "      <td>NEW RAP GROUP 17. CHECK US OUT https://soundcl...</td>\n",
       "      <td>No Advertising: Spam, referral links, unsolici...</td>\n",
       "      <td>hiphopheads</td>\n",
       "      <td>Hey, guys, just wanted to drop in and invite y...</td>\n",
       "      <td>Cum Swallowing Hottie Katrina Kaif Cartoon Xvi...</td>\n",
       "      <td>SD Stream Eng - [Chelsea TV USA](http://soccer...</td>\n",
       "      <td>HD Streams: |[ENG HD Stoke vs Manchester Unite...</td>\n",
       "    </tr>\n",
       "    <tr>\n",
       "      <th>1</th>\n",
       "      <td>2030</td>\n",
       "      <td>Make your life comfortable. Get up to 15% Disc...</td>\n",
       "      <td>No legal advice: Do not offer or request legal...</td>\n",
       "      <td>AskReddit</td>\n",
       "      <td>Get a lawyer and get the security camera foota...</td>\n",
       "      <td>That isn't drastic. You tried reaching out to ...</td>\n",
       "      <td>So what are you going to do with the insurance...</td>\n",
       "      <td>It's just for Austria &amp; Germany. If you still ...</td>\n",
       "    </tr>\n",
       "    <tr>\n",
       "      <th>2</th>\n",
       "      <td>2031</td>\n",
       "      <td>Kickin' ass and selling underwear!\\nJust made ...</td>\n",
       "      <td>No Advertising: Spam, referral links, unsolici...</td>\n",
       "      <td>gonewild</td>\n",
       "      <td>Good story my friend. Check out my blog at  ht...</td>\n",
       "      <td>If you know what exactly you need then you don...</td>\n",
       "      <td>CENTIPEDES\\n\\nSOME BASED PATRIOTS HAVE CREATED...</td>\n",
       "      <td>[So great! Thanks for sharing.](http://www.che...</td>\n",
       "    </tr>\n",
       "    <tr>\n",
       "      <th>3</th>\n",
       "      <td>2032</td>\n",
       "      <td>watch  hooters  best  therein  http://clickan...</td>\n",
       "      <td>No Advertising: Spam, referral links, unsolici...</td>\n",
       "      <td>personalfinance</td>\n",
       "      <td>Earn 50,000 bonus points with Chase Sapphire P...</td>\n",
       "      <td>Cool, front page! I made this print along with...</td>\n",
       "      <td>[Full HD Movie Online Free](http://www.flickma...</td>\n",
       "      <td>* Karambit Black Pearl\\n* 0.02137822 Float (un...</td>\n",
       "    </tr>\n",
       "    <tr>\n",
       "      <th>4</th>\n",
       "      <td>2033</td>\n",
       "      <td>bitches  for free  at this point  show all  h...</td>\n",
       "      <td>No Advertising: Spam, referral links, unsolici...</td>\n",
       "      <td>Showerthoughts</td>\n",
       "      <td>code free tyrande ---&gt;&gt;&gt; [Imgur](http://i.imgu...</td>\n",
       "      <td>My trade link\\nhttps://steamcommunity.com/trad...</td>\n",
       "      <td>**HD** [ mio Stadium 102 HD](http://www.genti....</td>\n",
       "      <td>Infographics is an incredible method for showi...</td>\n",
       "    </tr>\n",
       "  </tbody>\n",
       "</table>\n",
       "</div>"
      ],
      "text/plain": [
       "   row_id                                               body  \\\n",
       "0    2029  NEW RAP GROUP 17. CHECK US OUT https://soundcl...   \n",
       "1    2030  Make your life comfortable. Get up to 15% Disc...   \n",
       "2    2031  Kickin' ass and selling underwear!\\nJust made ...   \n",
       "3    2032   watch  hooters  best  therein  http://clickan...   \n",
       "4    2033   bitches  for free  at this point  show all  h...   \n",
       "\n",
       "                                                rule        subreddit  \\\n",
       "0  No Advertising: Spam, referral links, unsolici...      hiphopheads   \n",
       "1  No legal advice: Do not offer or request legal...        AskReddit   \n",
       "2  No Advertising: Spam, referral links, unsolici...         gonewild   \n",
       "3  No Advertising: Spam, referral links, unsolici...  personalfinance   \n",
       "4  No Advertising: Spam, referral links, unsolici...   Showerthoughts   \n",
       "\n",
       "                                  positive_example_1  \\\n",
       "0  Hey, guys, just wanted to drop in and invite y...   \n",
       "1  Get a lawyer and get the security camera foota...   \n",
       "2  Good story my friend. Check out my blog at  ht...   \n",
       "3  Earn 50,000 bonus points with Chase Sapphire P...   \n",
       "4  code free tyrande --->>> [Imgur](http://i.imgu...   \n",
       "\n",
       "                                  positive_example_2  \\\n",
       "0  Cum Swallowing Hottie Katrina Kaif Cartoon Xvi...   \n",
       "1  That isn't drastic. You tried reaching out to ...   \n",
       "2  If you know what exactly you need then you don...   \n",
       "3  Cool, front page! I made this print along with...   \n",
       "4  My trade link\\nhttps://steamcommunity.com/trad...   \n",
       "\n",
       "                                  negative_example_1  \\\n",
       "0  SD Stream Eng - [Chelsea TV USA](http://soccer...   \n",
       "1  So what are you going to do with the insurance...   \n",
       "2  CENTIPEDES\\n\\nSOME BASED PATRIOTS HAVE CREATED...   \n",
       "3  [Full HD Movie Online Free](http://www.flickma...   \n",
       "4  **HD** [ mio Stadium 102 HD](http://www.genti....   \n",
       "\n",
       "                                  negative_example_2  \n",
       "0  HD Streams: |[ENG HD Stoke vs Manchester Unite...  \n",
       "1  It's just for Austria & Germany. If you still ...  \n",
       "2  [So great! Thanks for sharing.](http://www.che...  \n",
       "3  * Karambit Black Pearl\\n* 0.02137822 Float (un...  \n",
       "4  Infographics is an incredible method for showi...  "
      ]
     },
     "execution_count": 5,
     "metadata": {},
     "output_type": "execute_result"
    }
   ],
   "source": [
    "df_test.head()"
   ]
  },
  {
   "cell_type": "code",
   "execution_count": 6,
   "id": "9d518e4d",
   "metadata": {
    "execution": {
     "iopub.execute_input": "2025-10-20T00:13:07.765814Z",
     "iopub.status.busy": "2025-10-20T00:13:07.765592Z",
     "iopub.status.idle": "2025-10-20T00:13:07.771490Z",
     "shell.execute_reply": "2025-10-20T00:13:07.770743Z"
    },
    "papermill": {
     "duration": 0.020614,
     "end_time": "2025-10-20T00:13:07.773280",
     "exception": false,
     "start_time": "2025-10-20T00:13:07.752666",
     "status": "completed"
    },
    "tags": []
   },
   "outputs": [
    {
     "name": "stdout",
     "output_type": "stream",
     "text": [
      "NA in train data: False\n",
      "NA in test data: False\n"
     ]
    }
   ],
   "source": [
    "print('NA in train data:', df_train.isna().values.any())\n",
    "print('NA in test data:', df_test.isna().values.any())"
   ]
  },
  {
   "cell_type": "code",
   "execution_count": 7,
   "id": "7d1ca665",
   "metadata": {
    "execution": {
     "iopub.execute_input": "2025-10-20T00:13:07.804498Z",
     "iopub.status.busy": "2025-10-20T00:13:07.804226Z",
     "iopub.status.idle": "2025-10-20T00:13:08.060757Z",
     "shell.execute_reply": "2025-10-20T00:13:08.060014Z"
    },
    "papermill": {
     "duration": 0.271704,
     "end_time": "2025-10-20T00:13:08.061863",
     "exception": false,
     "start_time": "2025-10-20T00:13:07.790159",
     "status": "completed"
    },
    "tags": []
   },
   "outputs": [
    {
     "data": {
      "image/png": "[encoded data removed]",
      "text/plain": [
       "<Figure size 640x480 with 1 Axes>"
      ]
     },
     "metadata": {},
     "output_type": "display_data"
    }
   ],
   "source": [
    "df_train[\"rule_violation\"].hist(bins=2)\n",
    "plt.show()"
   ]
  },
  {
   "cell_type": "markdown",
   "id": "36acd239",
   "metadata": {
    "papermill": {
     "duration": 0.009261,
     "end_time": "2025-10-20T00:13:08.081376",
     "exception": false,
     "start_time": "2025-10-20T00:13:08.072115",
     "status": "completed"
    },
    "tags": []
   },
   "source": [
    "# Preparation"
   ]
  },
  {
   "cell_type": "code",
   "execution_count": 8,
   "id": "13918dc1",
   "metadata": {
    "execution": {
     "iopub.execute_input": "2025-10-20T00:13:08.101980Z",
     "iopub.status.busy": "2025-10-20T00:13:08.101239Z",
     "iopub.status.idle": "2025-10-20T00:13:08.105597Z",
     "shell.execute_reply": "2025-10-20T00:13:08.104822Z"
    },
    "papermill": {
     "duration": 0.015712,
     "end_time": "2025-10-20T00:13:08.106725",
     "exception": false,
     "start_time": "2025-10-20T00:13:08.091013",
     "status": "completed"
    },
    "tags": []
   },
   "outputs": [],
   "source": [
    "import torch\n",
    "import torch.optim as optim\n",
    "import torch.nn as nn\n",
    "from torch.utils.data import DataLoader, TensorDataset\n",
    "from transformers import BertTokenizer, BertForSequenceClassification\n",
    "from sklearn.metrics import accuracy_score, precision_score, recall_score"
   ]
  },
  {
   "cell_type": "code",
   "execution_count": 9,
   "id": "b6304f1d",
   "metadata": {
    "execution": {
     "iopub.execute_input": "2025-10-20T00:13:08.126121Z",
     "iopub.status.busy": "2025-10-20T00:13:08.125863Z",
     "iopub.status.idle": "2025-10-20T00:13:08.129551Z",
     "shell.execute_reply": "2025-10-20T00:13:08.128905Z"
    },
    "papermill": {
     "duration": 0.014827,
     "end_time": "2025-10-20T00:13:08.130662",
     "exception": false,
     "start_time": "2025-10-20T00:13:08.115835",
     "status": "completed"
    },
    "tags": []
   },
   "outputs": [],
   "source": [
    "def add_rule_and_subreddit(df):\n",
    "\n",
    "    new_df = pd.DataFrame()\n",
    "    new_df[\"data\"] = \"Rule: \" + df[\"rule\"] + \\\n",
    "              \" Subreddit: \" + df[\"subreddit\"] + \\\n",
    "              \" Comment: \" + df['body']\n",
    "    new_df[\"label\"] = df[\"rule_violation\"]\n",
    "\n",
    "    return new_df"
   ]
  },
  {
   "cell_type": "code",
   "execution_count": 10,
   "id": "f208ff3e",
   "metadata": {
    "execution": {
     "iopub.execute_input": "2025-10-20T00:13:08.149876Z",
     "iopub.status.busy": "2025-10-20T00:13:08.149675Z",
     "iopub.status.idle": "2025-10-20T00:13:08.154172Z",
     "shell.execute_reply": "2025-10-20T00:13:08.153521Z"
    },
    "papermill": {
     "duration": 0.015196,
     "end_time": "2025-10-20T00:13:08.155187",
     "exception": false,
     "start_time": "2025-10-20T00:13:08.139991",
     "status": "completed"
    },
    "tags": []
   },
   "outputs": [
    {
     "data": {
      "text/plain": [
       "'\\n(Gray Rules): Adding Test data\\n'"
      ]
     },
     "execution_count": 10,
     "metadata": {},
     "output_type": "execute_result"
    }
   ],
   "source": [
    "\"\"\"\n",
    "(Gray Rules): Adding Test data\n",
    "\"\"\"\n",
    "# df_sample = df_test.sample(frac=0.30, random_state=SEED).reset_index(drop=True)"
   ]
  },
  {
   "cell_type": "code",
   "execution_count": 11,
   "id": "aaff9c8c",
   "metadata": {
    "execution": {
     "iopub.execute_input": "2025-10-20T00:13:08.174965Z",
     "iopub.status.busy": "2025-10-20T00:13:08.174277Z",
     "iopub.status.idle": "2025-10-20T00:13:08.193040Z",
     "shell.execute_reply": "2025-10-20T00:13:08.192323Z"
    },
    "papermill": {
     "duration": 0.030043,
     "end_time": "2025-10-20T00:13:08.194637",
     "exception": false,
     "start_time": "2025-10-20T00:13:08.164594",
     "status": "completed"
    },
    "tags": []
   },
   "outputs": [],
   "source": [
    "\"\"\"\n",
    "Data Augmentation using examples in train\n",
    "\"\"\"\n",
    "\n",
    "# positives\n",
    "pos = df_train[[\"positive_example_1\", \"rule\", \"subreddit\"]].rename(\n",
    "    columns={\"positive_example_1\": \"body\"}\n",
    ")\n",
    "pos[\"rule_violation\"] = 1\n",
    "\n",
    "pos_2 = df_train[[\"positive_example_2\", \"rule\", \"subreddit\"]].rename(\n",
    "    columns={\"positive_example_2\": \"body\"}\n",
    ")\n",
    "pos_2[\"rule_violation\"] = 1\n",
    "\n",
    "# negatives\n",
    "neg = df_train[[\"negative_example_1\", \"rule\", \"subreddit\"]].rename(\n",
    "    columns={\"negative_example_1\": \"body\"}\n",
    ")\n",
    "neg[\"rule_violation\"] = 0\n",
    "\n",
    "neg_2 = df_train[[\"negative_example_2\", \"rule\", \"subreddit\"]].rename(\n",
    "    columns={\"negative_example_2\": \"body\"}\n",
    ")\n",
    "neg_2[\"rule_violation\"] = 0\n",
    "\n",
    "# combine\n",
    "df_add = pd.concat([pos, pos_2, neg, neg_2], ignore_index=True)\n",
    "\n",
    "# optional: drop missing texts, ensure int dtype\n",
    "df_add = df_add.dropna(subset=[\"body\"]).reset_index(drop=True)\n",
    "df_add[\"rule_violation\"] = df_add[\"rule_violation\"].astype(int)"
   ]
  },
  {
   "cell_type": "code",
   "execution_count": 12,
   "id": "be86f023",
   "metadata": {
    "execution": {
     "iopub.execute_input": "2025-10-20T00:13:08.216797Z",
     "iopub.status.busy": "2025-10-20T00:13:08.216532Z",
     "iopub.status.idle": "2025-10-20T00:13:08.222076Z",
     "shell.execute_reply": "2025-10-20T00:13:08.221300Z"
    },
    "papermill": {
     "duration": 0.016857,
     "end_time": "2025-10-20T00:13:08.223165",
     "exception": false,
     "start_time": "2025-10-20T00:13:08.206308",
     "status": "completed"
    },
    "tags": []
   },
   "outputs": [],
   "source": [
    "df_train = pd.concat([df_train, df_add], ignore_index=True)"
   ]
  },
  {
   "cell_type": "code",
   "execution_count": 13,
   "id": "b6583d0c",
   "metadata": {
    "execution": {
     "iopub.execute_input": "2025-10-20T00:13:08.242116Z",
     "iopub.status.busy": "2025-10-20T00:13:08.241915Z",
     "iopub.status.idle": "2025-10-20T00:13:08.246189Z",
     "shell.execute_reply": "2025-10-20T00:13:08.245509Z"
    },
    "papermill": {
     "duration": 0.015108,
     "end_time": "2025-10-20T00:13:08.247328",
     "exception": false,
     "start_time": "2025-10-20T00:13:08.232220",
     "status": "completed"
    },
    "tags": []
   },
   "outputs": [
    {
     "data": {
      "text/plain": [
       "(10145, 9)"
      ]
     },
     "execution_count": 13,
     "metadata": {},
     "output_type": "execute_result"
    }
   ],
   "source": [
    "df_train.shape"
   ]
  },
  {
   "cell_type": "code",
   "execution_count": 14,
   "id": "536464cd",
   "metadata": {
    "execution": {
     "iopub.execute_input": "2025-10-20T00:13:08.311987Z",
     "iopub.status.busy": "2025-10-20T00:13:08.311680Z",
     "iopub.status.idle": "2025-10-20T00:13:08.324686Z",
     "shell.execute_reply": "2025-10-20T00:13:08.323948Z"
    },
    "papermill": {
     "duration": 0.02464,
     "end_time": "2025-10-20T00:13:08.325938",
     "exception": false,
     "start_time": "2025-10-20T00:13:08.301298",
     "status": "completed"
    },
    "tags": []
   },
   "outputs": [],
   "source": [
    "\"\"\"\n",
    "Data Augmentation using examples in test\n",
    "\"\"\"\n",
    "\n",
    "# positives\n",
    "pos = df_test[[\"positive_example_1\", \"rule\", \"subreddit\"]].rename(\n",
    "    columns={\"positive_example_1\": \"body\"}\n",
    ")\n",
    "pos[\"rule_violation\"] = 1\n",
    "\n",
    "pos_2 = df_test[[\"positive_example_2\", \"rule\", \"subreddit\"]].rename(\n",
    "    columns={\"positive_example_2\": \"body\"}\n",
    ")\n",
    "pos_2[\"rule_violation\"] = 1\n",
    "\n",
    "# negatives\n",
    "neg = df_test[[\"negative_example_1\", \"rule\", \"subreddit\"]].rename(\n",
    "    columns={\"negative_example_1\": \"body\"}\n",
    ")\n",
    "neg[\"rule_violation\"] = 0\n",
    "\n",
    "neg_2 = df_test[[\"negative_example_2\", \"rule\", \"subreddit\"]].rename(\n",
    "    columns={\"negative_example_2\": \"body\"}\n",
    ")\n",
    "neg_2[\"rule_violation\"] = 0\n",
    "\n",
    "# combine\n",
    "df_add = pd.concat([pos, pos_2, neg, neg_2], ignore_index=True)\n",
    "\n",
    "# optional: drop missing texts, ensure int dtype\n",
    "df_add = df_add.dropna(subset=[\"body\"]).reset_index(drop=True)\n",
    "df_add[\"rule_violation\"] = df_add[\"rule_violation\"].astype(int)"
   ]
  },
  {
   "cell_type": "code",
   "execution_count": 15,
   "id": "97287607",
   "metadata": {
    "execution": {
     "iopub.execute_input": "2025-10-20T00:13:08.347266Z",
     "iopub.status.busy": "2025-10-20T00:13:08.347003Z",
     "iopub.status.idle": "2025-10-20T00:13:08.351575Z",
     "shell.execute_reply": "2025-10-20T00:13:08.351096Z"
    },
    "papermill": {
     "duration": 0.015982,
     "end_time": "2025-10-20T00:13:08.352629",
     "exception": false,
     "start_time": "2025-10-20T00:13:08.336647",
     "status": "completed"
    },
    "tags": []
   },
   "outputs": [],
   "source": [
    "df_train_aug = pd.concat([df_train, df_add], ignore_index=True)"
   ]
  },
  {
   "cell_type": "code",
   "execution_count": 16,
   "id": "b42a1f76",
   "metadata": {
    "execution": {
     "iopub.execute_input": "2025-10-20T00:13:08.373366Z",
     "iopub.status.busy": "2025-10-20T00:13:08.373157Z",
     "iopub.status.idle": "2025-10-20T00:13:08.386411Z",
     "shell.execute_reply": "2025-10-20T00:13:08.385639Z"
    },
    "papermill": {
     "duration": 0.024477,
     "end_time": "2025-10-20T00:13:08.387616",
     "exception": false,
     "start_time": "2025-10-20T00:13:08.363139",
     "status": "completed"
    },
    "tags": []
   },
   "outputs": [],
   "source": [
    "df_train_aug = add_rule_and_subreddit(df_train_aug)"
   ]
  },
  {
   "cell_type": "code",
   "execution_count": 17,
   "id": "90e78cee",
   "metadata": {
    "execution": {
     "iopub.execute_input": "2025-10-20T00:13:08.408213Z",
     "iopub.status.busy": "2025-10-20T00:13:08.407815Z",
     "iopub.status.idle": "2025-10-20T00:13:08.411736Z",
     "shell.execute_reply": "2025-10-20T00:13:08.411221Z"
    },
    "papermill": {
     "duration": 0.015243,
     "end_time": "2025-10-20T00:13:08.412847",
     "exception": false,
     "start_time": "2025-10-20T00:13:08.397604",
     "status": "completed"
    },
    "tags": []
   },
   "outputs": [
    {
     "name": "stdout",
     "output_type": "stream",
     "text": [
      "Rule: No legal advice: Do not offer or request legal advice. Subreddit: conspiracy Comment: Can you beat and rape her? Then get her pregnant and blame her afterwards? I mean it was her fault she was asking for it by being in the same room as me.\n"
     ]
    }
   ],
   "source": [
    "print(df_train_aug[\"data\"].loc[9000,])"
   ]
  },
  {
   "cell_type": "markdown",
   "id": "32014288",
   "metadata": {
    "papermill": {
     "duration": 0.009653,
     "end_time": "2025-10-20T00:13:08.432637",
     "exception": false,
     "start_time": "2025-10-20T00:13:08.422984",
     "status": "completed"
    },
    "tags": []
   },
   "source": [
    "# Analysis"
   ]
  },
  {
   "cell_type": "code",
   "execution_count": 18,
   "id": "f232af15",
   "metadata": {
    "execution": {
     "iopub.execute_input": "2025-10-20T00:13:08.452882Z",
     "iopub.status.busy": "2025-10-20T00:13:08.452435Z",
     "iopub.status.idle": "2025-10-20T00:13:08.475785Z",
     "shell.execute_reply": "2025-10-20T00:13:08.475121Z"
    },
    "papermill": {
     "duration": 0.034444,
     "end_time": "2025-10-20T00:13:08.476858",
     "exception": false,
     "start_time": "2025-10-20T00:13:08.442414",
     "status": "completed"
    },
    "tags": []
   },
   "outputs": [
    {
     "name": "stdout",
     "output_type": "stream",
     "text": [
      "(10185, 2)\n",
      "(7915, 2)\n"
     ]
    }
   ],
   "source": [
    "\"\"\"\n",
    "Duplicate\n",
    "\"\"\"\n",
    "duplicates = df_train_aug[df_train_aug.duplicated()]\n",
    "# print(duplicates)\n",
    "print(df_train_aug.shape)\n",
    "df_train_aug = df_train_aug.drop_duplicates()\n",
    "print(df_train_aug.shape)"
   ]
  },
  {
   "cell_type": "code",
   "execution_count": 19,
   "id": "75746794",
   "metadata": {
    "execution": {
     "iopub.execute_input": "2025-10-20T00:13:08.497555Z",
     "iopub.status.busy": "2025-10-20T00:13:08.497366Z",
     "iopub.status.idle": "2025-10-20T00:13:08.501626Z",
     "shell.execute_reply": "2025-10-20T00:13:08.501108Z"
    },
    "papermill": {
     "duration": 0.015821,
     "end_time": "2025-10-20T00:13:08.502662",
     "exception": false,
     "start_time": "2025-10-20T00:13:08.486841",
     "status": "completed"
    },
    "tags": []
   },
   "outputs": [
    {
     "data": {
      "text/plain": [
       "'\\nCapital letters count\\n'"
      ]
     },
     "execution_count": 19,
     "metadata": {},
     "output_type": "execute_result"
    }
   ],
   "source": [
    "\"\"\"\n",
    "Capital letters count\n",
    "\"\"\"\n",
    "# def find_capitals(text):\n",
    "#     matches = re.findall(r\"[A-Z!]\", text)\n",
    "#     return len(matches)/len(text)\n",
    "    \n",
    "# df_train_aug[\"capital_ratio\"] = df_train_aug[\"data\"].apply(find_capitals)\n",
    "# sns.histplot(data=df_train_aug, x='capital_ratio', hue='label')"
   ]
  },
  {
   "cell_type": "code",
   "execution_count": 20,
   "id": "36683920",
   "metadata": {
    "execution": {
     "iopub.execute_input": "2025-10-20T00:13:08.522766Z",
     "iopub.status.busy": "2025-10-20T00:13:08.522553Z",
     "iopub.status.idle": "2025-10-20T00:13:08.527139Z",
     "shell.execute_reply": "2025-10-20T00:13:08.526459Z"
    },
    "papermill": {
     "duration": 0.015718,
     "end_time": "2025-10-20T00:13:08.528147",
     "exception": false,
     "start_time": "2025-10-20T00:13:08.512429",
     "status": "completed"
    },
    "tags": []
   },
   "outputs": [
    {
     "data": {
      "text/plain": [
       "'\\nURLs count\\n'"
      ]
     },
     "execution_count": 20,
     "metadata": {},
     "output_type": "execute_result"
    }
   ],
   "source": [
    "\"\"\"\n",
    "URLs count\n",
    "\"\"\"\n",
    "# def find_url(text):\n",
    "#     # Finds a full URL starting with http or https    \n",
    "#     matches = re.findall(r\"(?:http|https)://[^\\s]+\", text)\n",
    "\n",
    "#     if matches:\n",
    "#         return True\n",
    "#     else:\n",
    "#         return False\n",
    "\n",
    "# df_train_aug['url'] = df_train_aug['data'].apply(find_url)\n",
    "\n",
    "# # group label and url \n",
    "# plot_data = df_train_aug.groupby(['label', 'url']).size().reset_index(name='Count')\n",
    "\n",
    "\n",
    "# # visuzalize\n",
    "# sns.set_style(\"whitegrid\")\n",
    "# plt.figure(figsize=(7, 5))\n",
    "# palette_dict = {True: 'teal', False: 'darkorange'}\n",
    "\n",
    "# bar_plot = sns.barplot(\n",
    "#     data=plot_data,\n",
    "#     x='label',\n",
    "#     y='Count',\n",
    "#     hue='url', \n",
    "#     palette=palette_dict\n",
    "# )\n",
    "\n",
    "# plt.title('Count of URLs (True/False) per Label Category', fontsize=14)\n",
    "# plt.xlabel('Label Category', fontsize=12)\n",
    "# plt.ylabel('Count', fontsize=12)\n",
    "# plt.legend(title='URL Present', loc='upper right')\n",
    "\n",
    "# for container in bar_plot.containers:\n",
    "#     bar_plot.bar_label(container)\n",
    "\n",
    "# plt.show()"
   ]
  },
  {
   "cell_type": "code",
   "execution_count": 21,
   "id": "38d4dcf9",
   "metadata": {
    "execution": {
     "iopub.execute_input": "2025-10-20T00:13:08.548382Z",
     "iopub.status.busy": "2025-10-20T00:13:08.548179Z",
     "iopub.status.idle": "2025-10-20T00:13:08.551118Z",
     "shell.execute_reply": "2025-10-20T00:13:08.550443Z"
    },
    "papermill": {
     "duration": 0.014544,
     "end_time": "2025-10-20T00:13:08.552257",
     "exception": false,
     "start_time": "2025-10-20T00:13:08.537713",
     "status": "completed"
    },
    "tags": []
   },
   "outputs": [],
   "source": [
    "# print(df_train_aug[\"label\"].loc[3,])\n",
    "# print(df_train_aug[\"data\"].loc[3,]) # --> http://sh.ors.it/PALI2 (Not really helpful)\n",
    "\n",
    "# print(df_train_aug[\"label\"].loc[4,])\n",
    "# print(df_train_aug[\"data\"].loc[4,]) # --> www.paypal.com (\"paypal\")"
   ]
  },
  {
   "cell_type": "code",
   "execution_count": 22,
   "id": "b08ab61f",
   "metadata": {
    "execution": {
     "iopub.execute_input": "2025-10-20T00:13:08.572108Z",
     "iopub.status.busy": "2025-10-20T00:13:08.571873Z",
     "iopub.status.idle": "2025-10-20T00:13:08.576096Z",
     "shell.execute_reply": "2025-10-20T00:13:08.575444Z"
    },
    "papermill": {
     "duration": 0.015267,
     "end_time": "2025-10-20T00:13:08.577202",
     "exception": false,
     "start_time": "2025-10-20T00:13:08.561935",
     "status": "completed"
    },
    "tags": []
   },
   "outputs": [
    {
     "data": {
      "text/plain": [
       "'\\nWord Count\\n'"
      ]
     },
     "execution_count": 22,
     "metadata": {},
     "output_type": "execute_result"
    }
   ],
   "source": [
    "\"\"\"\n",
    "Word Count\n",
    "\"\"\"\n",
    "# df_train_aug['word_count'] = df_train_aug['data'].map(lambda calc: len(calc))\n",
    "# sns.histplot(data=df_train_aug, x='word_count', hue='label')"
   ]
  },
  {
   "cell_type": "markdown",
   "id": "6937cded",
   "metadata": {
    "papermill": {
     "duration": 0.009624,
     "end_time": "2025-10-20T00:13:08.597253",
     "exception": false,
     "start_time": "2025-10-20T00:13:08.587629",
     "status": "completed"
    },
    "tags": []
   },
   "source": [
    "# Text cleaning / Deature Engineering"
   ]
  },
  {
   "cell_type": "markdown",
   "id": "a8b969d7",
   "metadata": {
    "papermill": {
     "duration": 0.009677,
     "end_time": "2025-10-20T00:13:08.616890",
     "exception": false,
     "start_time": "2025-10-20T00:13:08.607213",
     "status": "completed"
    },
    "tags": []
   },
   "source": [
    "### Parsing URLs"
   ]
  },
  {
   "cell_type": "code",
   "execution_count": 23,
   "id": "6a959d85",
   "metadata": {
    "execution": {
     "iopub.execute_input": "2025-10-20T00:13:08.637220Z",
     "iopub.status.busy": "2025-10-20T00:13:08.637003Z",
     "iopub.status.idle": "2025-10-20T00:13:08.673160Z",
     "shell.execute_reply": "2025-10-20T00:13:08.672382Z"
    },
    "papermill": {
     "duration": 0.047612,
     "end_time": "2025-10-20T00:13:08.674421",
     "exception": false,
     "start_time": "2025-10-20T00:13:08.626809",
     "status": "completed"
    },
    "tags": []
   },
   "outputs": [],
   "source": [
    "import urllib.request\n",
    "import re\n",
    "from urllib.parse import urlparse\n",
    "import emoji\n",
    "\n",
    "def replace_urls_with_features(text):\n",
    "    urls = re.findall(r\"(?:http|https)://[^\\s]+\", text)\n",
    "\n",
    "    for url in urls:\n",
    "        seen_semantics = set()\n",
    "        all_semantics = []    \n",
    "        try:\n",
    "            parsed = urlparse(url)\n",
    "            domain = parsed.netloc.lower()\n",
    "        except ValueError:\n",
    "            domain = \"invalid\"\n",
    "\n",
    "        # domain\n",
    "        domain_match = re.search(r\"(?:https?://)?([a-z0-9\\-\\.]+)\\.[a-z]{2,}\", url.lower())\n",
    "        if domain_match:\n",
    "            full_domain = domain_match.group(1)\n",
    "            parts = full_domain.split('.')\n",
    "            for part in parts:\n",
    "                if part and part not in seen_semantics and len(part) > 3:\n",
    "                    all_semantics.append(f\"domain:{part}\")\n",
    "                    seen_semantics.add(part)\n",
    "\n",
    "        # path\n",
    "        path = re.sub(r\"^(?:https?://)?[a-z0-9\\.-]+\\.[a-z]{2,}/?\", \"\", url.lower())\n",
    "        path_parts = [p for p in re.split(r'[/_.-]+', path) if p and p.isalnum()]\n",
    "        for part in path_parts:\n",
    "            part_clean = re.sub(r\"\\.(html?|php|asp|jsp)$|#.*|\\?.*\", \"\", part)\n",
    "            if part_clean and part_clean not in seen_semantics and len(part_clean) > 3:\n",
    "                all_semantics.append(f\"path:{part_clean}\")\n",
    "                seen_semantics.add(part_clean)\n",
    "\n",
    "        if all_semantics:\n",
    "            semantic_str = f\"\\n(URL Keywords: {' '.join(all_semantics)})\"\n",
    "        else:\n",
    "            semantic_str = \"\"\n",
    "\n",
    "        text = text.replace(url, semantic_str)\n",
    "\n",
    "    return text\n"
   ]
  },
  {
   "cell_type": "code",
   "execution_count": 24,
   "id": "166b0011",
   "metadata": {
    "execution": {
     "iopub.execute_input": "2025-10-20T00:13:08.699041Z",
     "iopub.status.busy": "2025-10-20T00:13:08.698392Z",
     "iopub.status.idle": "2025-10-20T00:13:08.701880Z",
     "shell.execute_reply": "2025-10-20T00:13:08.701335Z"
    },
    "papermill": {
     "duration": 0.016973,
     "end_time": "2025-10-20T00:13:08.703049",
     "exception": false,
     "start_time": "2025-10-20T00:13:08.686076",
     "status": "completed"
    },
    "tags": []
   },
   "outputs": [],
   "source": [
    "# df_train_aug[\"data\"] = df_train_aug['data'].apply(replace_urls_with_features)\n",
    "# print(df_train_aug[\"data\"].loc[4,])"
   ]
  },
  {
   "cell_type": "code",
   "execution_count": 25,
   "id": "742870ec",
   "metadata": {
    "execution": {
     "iopub.execute_input": "2025-10-20T00:13:08.725107Z",
     "iopub.status.busy": "2025-10-20T00:13:08.724865Z",
     "iopub.status.idle": "2025-10-20T00:13:08.728465Z",
     "shell.execute_reply": "2025-10-20T00:13:08.727958Z"
    },
    "papermill": {
     "duration": 0.015408,
     "end_time": "2025-10-20T00:13:08.729586",
     "exception": false,
     "start_time": "2025-10-20T00:13:08.714178",
     "status": "completed"
    },
    "tags": []
   },
   "outputs": [],
   "source": [
    "\"\"\"\n",
    "clean text \n",
    "\"\"\"\n",
    "\n",
    "def clean_text(text):\n",
    "    text = replace_urls_with_features(text) # extract semantics from URL\n",
    "    text = emoji.replace_emoji(text, replace=\"\")  # remove emoji\n",
    "    text = re.sub(r'\\s+', ' ', text).strip() # remove unnecessary space\n",
    "    return text"
   ]
  },
  {
   "cell_type": "code",
   "execution_count": 26,
   "id": "cb7d7b54",
   "metadata": {
    "execution": {
     "iopub.execute_input": "2025-10-20T00:13:08.752202Z",
     "iopub.status.busy": "2025-10-20T00:13:08.751705Z",
     "iopub.status.idle": "2025-10-20T00:13:10.529269Z",
     "shell.execute_reply": "2025-10-20T00:13:10.528522Z"
    },
    "papermill": {
     "duration": 1.790596,
     "end_time": "2025-10-20T00:13:10.530361",
     "exception": false,
     "start_time": "2025-10-20T00:13:08.739765",
     "status": "completed"
    },
    "tags": []
   },
   "outputs": [
    {
     "name": "stdout",
     "output_type": "stream",
     "text": [
      "Rule: No Advertising: Spam, referral links, unsolicited advertising, and promotional content are not allowed. Subreddit: hearthstone Comment: code free tyrande --->>> [Imgur]( (URL Keywords: domain:imgur path:klvsscl) for you and your friend 2 codes for 4 dollars (URL Keywords: domain:paypal path:button) 2$... buy one directly from here: (URL Keywords: domain:paypal path:button)\n"
     ]
    }
   ],
   "source": [
    "df_train_aug[\"data\"] = df_train_aug['data'].apply(clean_text)\n",
    "print(df_train_aug[\"data\"].loc[4,])"
   ]
  },
  {
   "cell_type": "markdown",
   "id": "0c0303bd",
   "metadata": {
    "papermill": {
     "duration": 0.009872,
     "end_time": "2025-10-20T00:13:10.550468",
     "exception": false,
     "start_time": "2025-10-20T00:13:10.540596",
     "status": "completed"
    },
    "tags": []
   },
   "source": [
    "### Prompt Engineering (URL to Keyword)"
   ]
  },
  {
   "cell_type": "code",
   "execution_count": 27,
   "id": "0d189c8d",
   "metadata": {
    "execution": {
     "iopub.execute_input": "2025-10-20T00:13:10.571012Z",
     "iopub.status.busy": "2025-10-20T00:13:10.570770Z",
     "iopub.status.idle": "2025-10-20T00:13:10.574004Z",
     "shell.execute_reply": "2025-10-20T00:13:10.573428Z"
    },
    "papermill": {
     "duration": 0.014736,
     "end_time": "2025-10-20T00:13:10.575019",
     "exception": false,
     "start_time": "2025-10-20T00:13:10.560283",
     "status": "completed"
    },
    "tags": []
   },
   "outputs": [],
   "source": [
    "# from transformers import AutoModelForCausalLM, AutoTokenizer\n",
    "\n",
    "# LLM_MODEL_PATH = \"/kaggle/input/qwen2.5/transformers/1.5b-instruct/1\"\n",
    "\n",
    "# model = AutoModelForCausalLM.from_pretrained(\n",
    "#     LLM_MODEL_PATH,\n",
    "#     torch_dtype=\"auto\",\n",
    "#     device_map=\"auto\"\n",
    "# )\n",
    "# tokenizer = AutoTokenizer.from_pretrained(LLM_MODEL_PATH)"
   ]
  },
  {
   "cell_type": "code",
   "execution_count": 28,
   "id": "72baeb57",
   "metadata": {
    "execution": {
     "iopub.execute_input": "2025-10-20T00:13:10.595264Z",
     "iopub.status.busy": "2025-10-20T00:13:10.594824Z",
     "iopub.status.idle": "2025-10-20T00:13:10.598434Z",
     "shell.execute_reply": "2025-10-20T00:13:10.597952Z"
    },
    "papermill": {
     "duration": 0.014819,
     "end_time": "2025-10-20T00:13:10.599534",
     "exception": false,
     "start_time": "2025-10-20T00:13:10.584715",
     "status": "completed"
    },
    "tags": []
   },
   "outputs": [],
   "source": [
    "# def build_prompt(url):\n",
    "\n",
    "#     prompt = (\n",
    "#         f\"Please list 3 to 5 keywords that are likely related to the content of this URL: {url}. \"\n",
    "#         f\"Answer the keywords only, separated by commas.\"\n",
    "#     )\n",
    "    \n",
    "#     messages = [\n",
    "#         {\"role\": \"system\", \"content\": \"You are Qwen, created by Alibaba Cloud. You are a helpful assistant.\"},\n",
    "#         {\"role\": \"user\", \"content\": prompt}\n",
    "#     ]\n",
    "    \n",
    "#     # Qwen-Chat\n",
    "#     text = tokenizer.apply_chat_template(\n",
    "#         messages,\n",
    "#         tokenize=False,\n",
    "#         add_generation_prompt=True\n",
    "#     )\n",
    "\n",
    "#     model_inputs = tokenizer([text], return_tensors=\"pt\").to(model.device)\n",
    "    \n",
    "#     generated_ids = model.generate(\n",
    "#         **model_inputs,\n",
    "#         max_new_tokens=100,\n",
    "#         do_sample=True,\n",
    "#         temperature=0.2,\n",
    "#         top_p=0.9\n",
    "#     )\n",
    "    \n",
    "#     generated_ids = [\n",
    "#         output_ids[len(input_ids):] for input_ids, output_ids in zip(model_inputs.input_ids, generated_ids)\n",
    "#     ]\n",
    "    \n",
    "#     response = tokenizer.batch_decode(generated_ids, skip_special_tokens=True)[0]\n",
    "\n",
    "#     keywords = re.findall(r\"[A-Za-z0-9\\-]+\", response)\n",
    "#     return [kw.lower() for kw in keywords if kw.lower() not in [\"keywords\"]]\n",
    "    \n",
    "\n",
    "# def replace_url_to_keywords(text):\n",
    "#     # Retrieve urls（http/https/www.）\n",
    "#     urls = re.findall(r'https?://\\S+|www\\.\\S+', text)\n",
    "#     # print(urls)\n",
    "#     for url in urls:\n",
    "#         try:\n",
    "#             keywords = build_prompt(url)\n",
    "#             keyword_str = \", \".join(keywords)\n",
    "#             replacement = f\"<URL: {keyword_str}>\"\n",
    "#             text = text.replace(url, replacement)\n",
    "        \n",
    "#         except Exception as e:\n",
    "#             print(f\"Error processing {url}: {e}\")\n",
    "#             text = text.replace(url, \"<URL: unknown>\")\n",
    "    \n",
    "#     return text"
   ]
  },
  {
   "cell_type": "code",
   "execution_count": 29,
   "id": "1f36a9c1",
   "metadata": {
    "execution": {
     "iopub.execute_input": "2025-10-20T00:13:10.619561Z",
     "iopub.status.busy": "2025-10-20T00:13:10.619357Z",
     "iopub.status.idle": "2025-10-20T00:13:10.622073Z",
     "shell.execute_reply": "2025-10-20T00:13:10.621577Z"
    },
    "papermill": {
     "duration": 0.013842,
     "end_time": "2025-10-20T00:13:10.623068",
     "exception": false,
     "start_time": "2025-10-20T00:13:10.609226",
     "status": "completed"
    },
    "tags": []
   },
   "outputs": [],
   "source": [
    "# # Test\n",
    "# url = \"https://onlyfans.com/user123\"\n",
    "# print(build_prompt(url))"
   ]
  },
  {
   "cell_type": "code",
   "execution_count": 30,
   "id": "b53e1d30",
   "metadata": {
    "execution": {
     "iopub.execute_input": "2025-10-20T00:13:10.643448Z",
     "iopub.status.busy": "2025-10-20T00:13:10.643241Z",
     "iopub.status.idle": "2025-10-20T00:13:10.646072Z",
     "shell.execute_reply": "2025-10-20T00:13:10.645566Z"
    },
    "papermill": {
     "duration": 0.014232,
     "end_time": "2025-10-20T00:13:10.647144",
     "exception": false,
     "start_time": "2025-10-20T00:13:10.632912",
     "status": "completed"
    },
    "tags": []
   },
   "outputs": [],
   "source": [
    "# df_train_aug[\"data\"] = df_train_aug[\"data\"].apply(replace_url_to_keywords)"
   ]
  },
  {
   "cell_type": "markdown",
   "id": "89a587e9",
   "metadata": {
    "papermill": {
     "duration": 0.009655,
     "end_time": "2025-10-20T00:13:10.666478",
     "exception": false,
     "start_time": "2025-10-20T00:13:10.656823",
     "status": "completed"
    },
    "tags": []
   },
   "source": [
    "# Model"
   ]
  },
  {
   "cell_type": "code",
   "execution_count": 31,
   "id": "1404635d",
   "metadata": {
    "execution": {
     "iopub.execute_input": "2025-10-20T00:13:10.687299Z",
     "iopub.status.busy": "2025-10-20T00:13:10.687055Z",
     "iopub.status.idle": "2025-10-20T00:13:10.693474Z",
     "shell.execute_reply": "2025-10-20T00:13:10.692705Z"
    },
    "papermill": {
     "duration": 0.018432,
     "end_time": "2025-10-20T00:13:10.694613",
     "exception": false,
     "start_time": "2025-10-20T00:13:10.676181",
     "status": "completed"
    },
    "tags": []
   },
   "outputs": [
    {
     "name": "stdout",
     "output_type": "stream",
     "text": [
      "(7915, 2)\n",
      "(7915, 2)\n",
      "2638 5276\n"
     ]
    }
   ],
   "source": [
    "print(df_train_aug.shape)\n",
    "df_train_aug = df_train_aug.sample(frac=1).reset_index(drop=True)\n",
    "print(df_train_aug.shape)\n",
    "\n",
    "size = len(df_train_aug)\n",
    "i1 = size // 3\n",
    "i2 = (size * 2) // 3\n",
    "\n",
    "print(i1,i2)"
   ]
  },
  {
   "cell_type": "code",
   "execution_count": 32,
   "id": "9540dcc2",
   "metadata": {
    "execution": {
     "iopub.execute_input": "2025-10-20T00:13:10.715208Z",
     "iopub.status.busy": "2025-10-20T00:13:10.715009Z",
     "iopub.status.idle": "2025-10-20T00:13:10.721407Z",
     "shell.execute_reply": "2025-10-20T00:13:10.720867Z"
    },
    "papermill": {
     "duration": 0.017924,
     "end_time": "2025-10-20T00:13:10.722429",
     "exception": false,
     "start_time": "2025-10-20T00:13:10.704505",
     "status": "completed"
    },
    "tags": []
   },
   "outputs": [],
   "source": [
    "df_shuf = df_train_aug.sample(frac=1, random_state=SEED).reset_index(drop=True)\n",
    "\n",
    "df_train_aug_1 = df_shuf.iloc[0:i1].copy()\n",
    "df_train_aug_2 = df_shuf.iloc[i1:i2].copy()\n",
    "df_train_aug_3 = df_shuf.iloc[i2:size].copy()"
   ]
  },
  {
   "cell_type": "code",
   "execution_count": 33,
   "id": "6453a9fb",
   "metadata": {
    "execution": {
     "iopub.execute_input": "2025-10-20T00:13:10.742620Z",
     "iopub.status.busy": "2025-10-20T00:13:10.742431Z",
     "iopub.status.idle": "2025-10-20T00:13:10.748020Z",
     "shell.execute_reply": "2025-10-20T00:13:10.747294Z"
    },
    "papermill": {
     "duration": 0.016885,
     "end_time": "2025-10-20T00:13:10.749100",
     "exception": false,
     "start_time": "2025-10-20T00:13:10.732215",
     "status": "completed"
    },
    "tags": []
   },
   "outputs": [],
   "source": [
    "y = df_train_aug_1[\"label\"]\n",
    "X = df_train_aug_1[\"data\"]\n",
    "X_train, X_val, y_train, y_val = train_test_split(X, y, test_size=0.2, random_state=SEED)"
   ]
  },
  {
   "cell_type": "code",
   "execution_count": 34,
   "id": "4947d97d",
   "metadata": {
    "execution": {
     "iopub.execute_input": "2025-10-20T00:13:10.769834Z",
     "iopub.status.busy": "2025-10-20T00:13:10.769660Z",
     "iopub.status.idle": "2025-10-20T00:13:10.774335Z",
     "shell.execute_reply": "2025-10-20T00:13:10.773835Z"
    },
    "papermill": {
     "duration": 0.016204,
     "end_time": "2025-10-20T00:13:10.775385",
     "exception": false,
     "start_time": "2025-10-20T00:13:10.759181",
     "status": "completed"
    },
    "tags": []
   },
   "outputs": [],
   "source": [
    "# Token and Encode Function\n",
    "def tokenize_and_encode(tokenizer, comments, labels, max_length):\n",
    "    # Initialize empty lists to store tokenized inputs and attention masks\n",
    "    input_ids = []\n",
    "    attention_masks = []\n",
    "\n",
    "    # Iterate through each comment in the 'comments' list\n",
    "    for comment in comments:\n",
    "\n",
    "        # Tokenize and encode the comment using the BERT tokenizer\n",
    "        encoded_dict = tokenizer.encode_plus(\n",
    "            comment,\n",
    "\n",
    "            # Add special tokens like [CLS] and [SEP]\n",
    "            add_special_tokens=True,\n",
    "\n",
    "            truncation=True,\n",
    "            \n",
    "            # Truncate or pad the comment to 'max_length'\n",
    "            max_length=max_length,\n",
    "\n",
    "            # Pad the comment to 'max_length' with zeros if needed\n",
    "            padding='max_length',\n",
    "\n",
    "            # Return attention mask to mask padded tokens\n",
    "            return_attention_mask=True,\n",
    "\n",
    "            # Return PyTorch tensors\n",
    "            return_tensors='pt'\n",
    "        )\n",
    "\n",
    "        # Append the tokenized input and attention mask to their respective lists\n",
    "        input_ids.append(encoded_dict['input_ids'])\n",
    "        attention_masks.append(encoded_dict['attention_mask'])\n",
    "\n",
    "    # Concatenate the tokenized inputs and attention masks into tensors\n",
    "    input_ids = torch.cat(input_ids, dim=0)\n",
    "    attention_masks = torch.cat(attention_masks, dim=0)\n",
    "\n",
    "    # Convert the labels to a PyTorch tensor with the data type float32\n",
    "    labels = torch.tensor(labels, dtype=torch.float32)\n",
    "\n",
    "    # Return the tokenized inputs, attention masks, and labels as PyTorch tensors\n",
    "    return input_ids, attention_masks, labels"
   ]
  },
  {
   "cell_type": "markdown",
   "id": "c00ee7d7",
   "metadata": {
    "papermill": {
     "duration": 0.009594,
     "end_time": "2025-10-20T00:13:10.795072",
     "exception": false,
     "start_time": "2025-10-20T00:13:10.785478",
     "status": "completed"
    },
    "tags": []
   },
   "source": [
    "## Bert-base"
   ]
  },
  {
   "cell_type": "code",
   "execution_count": 35,
   "id": "131d78f4",
   "metadata": {
    "execution": {
     "iopub.execute_input": "2025-10-20T00:13:10.815145Z",
     "iopub.status.busy": "2025-10-20T00:13:10.814921Z",
     "iopub.status.idle": "2025-10-20T00:13:10.817664Z",
     "shell.execute_reply": "2025-10-20T00:13:10.817173Z"
    },
    "papermill": {
     "duration": 0.013899,
     "end_time": "2025-10-20T00:13:10.818659",
     "exception": false,
     "start_time": "2025-10-20T00:13:10.804760",
     "status": "completed"
    },
    "tags": []
   },
   "outputs": [],
   "source": [
    "# from transformers import AutoTokenizer, RobertaForSequenceClassification\n",
    "\n",
    "# tokenizer = AutoTokenizer.from_pretrained(\"FacebookAI/roberta-base\")\n",
    "# model = RobertaForSequenceClassification.from_pretrained(\"FacebookAI/roberta-base\", num_labels=1)"
   ]
  },
  {
   "cell_type": "code",
   "execution_count": 36,
   "id": "44071552",
   "metadata": {
    "execution": {
     "iopub.execute_input": "2025-10-20T00:13:10.839560Z",
     "iopub.status.busy": "2025-10-20T00:13:10.839018Z",
     "iopub.status.idle": "2025-10-20T00:13:10.842138Z",
     "shell.execute_reply": "2025-10-20T00:13:10.841472Z"
    },
    "papermill": {
     "duration": 0.014533,
     "end_time": "2025-10-20T00:13:10.843236",
     "exception": false,
     "start_time": "2025-10-20T00:13:10.828703",
     "status": "completed"
    },
    "tags": []
   },
   "outputs": [],
   "source": [
    "# model.save_pretrained(\"my-roberta-base-cls\")\n",
    "# tokenizer.save_pretrained(\"my-roberta-base-cls\")\n",
    "# batch_size = 32"
   ]
  },
  {
   "cell_type": "code",
   "execution_count": 37,
   "id": "1a171cb8",
   "metadata": {
    "execution": {
     "iopub.execute_input": "2025-10-20T00:13:10.863365Z",
     "iopub.status.busy": "2025-10-20T00:13:10.863166Z",
     "iopub.status.idle": "2025-10-20T00:13:11.575559Z",
     "shell.execute_reply": "2025-10-20T00:13:11.574947Z"
    },
    "papermill": {
     "duration": 0.724077,
     "end_time": "2025-10-20T00:13:11.576940",
     "exception": false,
     "start_time": "2025-10-20T00:13:10.852863",
     "status": "completed"
    },
    "tags": []
   },
   "outputs": [],
   "source": [
    "MODEL_DIR = \"/kaggle/input/my-base-bert/my-bert-cls\"\n",
    "\n",
    "tokenizer = BertTokenizer.from_pretrained(\n",
    "    MODEL_DIR,\n",
    "    do_lower_case=True,\n",
    "    local_files_only=True\n",
    ")\n",
    "\n",
    "config = BertConfig.from_pretrained(\n",
    "    MODEL_DIR,\n",
    "    local_files_only=True\n",
    ")\n",
    "\n",
    "model = BertForSequenceClassification.from_pretrained(\n",
    "    MODEL_DIR,\n",
    "    config=config,\n",
    "    local_files_only=True\n",
    ")\n",
    "batch_size = 32"
   ]
  },
  {
   "cell_type": "code",
   "execution_count": 38,
   "id": "9e5dd2f7",
   "metadata": {
    "execution": {
     "iopub.execute_input": "2025-10-20T00:13:11.598218Z",
     "iopub.status.busy": "2025-10-20T00:13:11.597985Z",
     "iopub.status.idle": "2025-10-20T00:13:19.228766Z",
     "shell.execute_reply": "2025-10-20T00:13:19.228148Z"
    },
    "papermill": {
     "duration": 7.642609,
     "end_time": "2025-10-20T00:13:19.230083",
     "exception": false,
     "start_time": "2025-10-20T00:13:11.587474",
     "status": "completed"
    },
    "tags": []
   },
   "outputs": [
    {
     "name": "stdout",
     "output_type": "stream",
     "text": [
      "p50: 69 p90: 118 max: 250\n"
     ]
    },
    {
     "data": {
      "image/png": "[encoded data removed]",
      "text/plain": [
       "<Figure size 640x480 with 1 Axes>"
      ]
     },
     "metadata": {},
     "output_type": "display_data"
    }
   ],
   "source": [
    "\"\"\"\n",
    "Token length distribution\n",
    "\"\"\"\n",
    "lengths = [len(tokenizer.encode(t, add_special_tokens=True)) for t in df_train_aug[\"data\"]]\n",
    "print(\"p50:\", int(np.percentile(lengths, 50)),\n",
    "      \"p90:\", int(np.percentile(lengths, 90)),\n",
    "      \"max:\", max(lengths))\n",
    "\n",
    "plt.hist(lengths, bins=50)\n",
    "plt.title(\"Token Length Distribution\")\n",
    "plt.xlabel(\"tokens\")\n",
    "plt.ylabel(\"freq\")\n",
    "plt.show()"
   ]
  },
  {
   "cell_type": "markdown",
   "id": "0cdcd1d9",
   "metadata": {
    "papermill": {
     "duration": 0.010383,
     "end_time": "2025-10-20T00:13:19.252163",
     "exception": false,
     "start_time": "2025-10-20T00:13:19.241780",
     "status": "completed"
    },
    "tags": []
   },
   "source": [
    "Set the default token to **<b>120</b>**"
   ]
  },
  {
   "cell_type": "markdown",
   "id": "2f0334e9",
   "metadata": {
    "papermill": {
     "duration": 0.010461,
     "end_time": "2025-10-20T00:13:19.272776",
     "exception": false,
     "start_time": "2025-10-20T00:13:19.262315",
     "status": "completed"
    },
    "tags": []
   },
   "source": [
    "## Deberta-v3-base"
   ]
  },
  {
   "cell_type": "code",
   "execution_count": 39,
   "id": "4e26af82",
   "metadata": {
    "_kg_hide-input": true,
    "execution": {
     "iopub.execute_input": "2025-10-20T00:13:19.294198Z",
     "iopub.status.busy": "2025-10-20T00:13:19.293948Z",
     "iopub.status.idle": "2025-10-20T00:13:19.297808Z",
     "shell.execute_reply": "2025-10-20T00:13:19.297102Z"
    },
    "papermill": {
     "duration": 0.015933,
     "end_time": "2025-10-20T00:13:19.299045",
     "exception": false,
     "start_time": "2025-10-20T00:13:19.283112",
     "status": "completed"
    },
    "tags": []
   },
   "outputs": [],
   "source": [
    "# from transformers import (\n",
    "#     AutoTokenizer, AutoConfig, AutoModelForSequenceClassification,\n",
    "#     DataCollatorWithPadding\n",
    "# )\n",
    "\n",
    "# MODEL_DIR = \"/kaggle/input/deberta-v3-base/transformers/default/1/deberta-v3-base\"\n",
    "\n",
    "# # Tokenizer\n",
    "# tokenizer_2 = AutoTokenizer.from_pretrained(\n",
    "#     MODEL_DIR,\n",
    "#     use_fast=True,\n",
    "#     local_files_only=True\n",
    "# )  \n",
    "\n",
    "# # Config\n",
    "# config_2 = AutoConfig.from_pretrained(\n",
    "#     MODEL_DIR,\n",
    "#     num_labels=1,  # 1 --> regression (MSE Loss), 2--> binary classification (Cross-entropy)\n",
    "#     problem_type=\"single_label_classification\",\n",
    "#     local_files_only=True,\n",
    "#     hidden_dropout_prob=0.2,\n",
    "#     attention_probs_dropout_prob=0.2,\n",
    "# )\n",
    "\n",
    "# # Model\n",
    "# model_2 = AutoModelForSequenceClassification.from_pretrained(\n",
    "#     MODEL_DIR,\n",
    "#     config=config_2,\n",
    "#     local_files_only=True\n",
    "# )\n",
    "\n",
    "# # For dynamic padding in your DataLoader/Trainer:\n",
    "# # data_collator = DataCollatorWithPadding(\n",
    "# #     tokenizer=tokenizer,\n",
    "# #     pad_to_multiple_of=8  # helpful for fp16, optional\n",
    "# # )"
   ]
  },
  {
   "cell_type": "markdown",
   "id": "bc3db0d3",
   "metadata": {
    "papermill": {
     "duration": 0.010099,
     "end_time": "2025-10-20T00:13:19.319870",
     "exception": false,
     "start_time": "2025-10-20T00:13:19.309771",
     "status": "completed"
    },
    "tags": []
   },
   "source": [
    "## Qwen3-0.6B"
   ]
  },
  {
   "cell_type": "code",
   "execution_count": 40,
   "id": "c67429f3",
   "metadata": {
    "_kg_hide-input": true,
    "execution": {
     "iopub.execute_input": "2025-10-20T00:13:19.341295Z",
     "iopub.status.busy": "2025-10-20T00:13:19.341067Z",
     "iopub.status.idle": "2025-10-20T00:13:19.344126Z",
     "shell.execute_reply": "2025-10-20T00:13:19.343611Z"
    },
    "papermill": {
     "duration": 0.01502,
     "end_time": "2025-10-20T00:13:19.345122",
     "exception": false,
     "start_time": "2025-10-20T00:13:19.330102",
     "status": "completed"
    },
    "tags": []
   },
   "outputs": [],
   "source": [
    "# from transformers import AutoTokenizer, AutoModel, AutoModelForSequenceClassification\n",
    "\n",
    "# QWEN_MODEL_DIR = \"/kaggle/input/qwen2.5/transformers/0.5b/1\"\n",
    "\n",
    "# # load the tokenizer and the model\n",
    "# tokenizer = AutoTokenizer.from_pretrained(\n",
    "#     QWEN_MODEL_DIR, \n",
    "#     padding=True,\n",
    "#     truncation=True,\n",
    "#     trust_remote_code=True)\n",
    "    \n",
    "# model = AutoModelForSequenceClassification.from_pretrained(\n",
    "#     QWEN_MODEL_DIR,\n",
    "#     num_labels=1,\n",
    "#     trust_remote_code=True\n",
    "# )\n",
    "\n",
    "\n",
    "# batch_size = 8"
   ]
  },
  {
   "cell_type": "markdown",
   "id": "d778e8c0",
   "metadata": {
    "papermill": {
     "duration": 0.010141,
     "end_time": "2025-10-20T00:13:19.365697",
     "exception": false,
     "start_time": "2025-10-20T00:13:19.355556",
     "status": "completed"
    },
    "tags": []
   },
   "source": [
    "# Prompt Engineering"
   ]
  },
  {
   "cell_type": "code",
   "execution_count": 41,
   "id": "79f77342",
   "metadata": {
    "_kg_hide-input": true,
    "execution": {
     "iopub.execute_input": "2025-10-20T00:13:19.387282Z",
     "iopub.status.busy": "2025-10-20T00:13:19.387073Z",
     "iopub.status.idle": "2025-10-20T00:13:19.390186Z",
     "shell.execute_reply": "2025-10-20T00:13:19.389684Z"
    },
    "papermill": {
     "duration": 0.015508,
     "end_time": "2025-10-20T00:13:19.391264",
     "exception": false,
     "start_time": "2025-10-20T00:13:19.375756",
     "status": "completed"
    },
    "tags": []
   },
   "outputs": [],
   "source": [
    "# # prepare the model input\n",
    "# prompt = \"Give me a short introduction to large language model.\"\n",
    "# messages = [\n",
    "#     {\"role\": \"user\", \"content\": prompt}\n",
    "# ]\n",
    "# text = tokenizer.apply_chat_template(\n",
    "#     messages,\n",
    "#     tokenize=False,\n",
    "#     add_generation_prompt=True,\n",
    "#     enable_thinking=True # Switches between thinking and non-thinking modes. Default is True.\n",
    "# )\n",
    "# model_inputs = tokenizer([text], return_tensors=\"pt\").to(model.device)\n",
    "\n",
    "# # conduct text completion\n",
    "# generated_ids = model.generate(\n",
    "#     **model_inputs,\n",
    "#     max_new_tokens=32768\n",
    "# )\n",
    "# output_ids = generated_ids[0][len(model_inputs.input_ids[0]):].tolist() \n",
    "\n",
    "# # parsing thinking content\n",
    "# try:\n",
    "#     # rindex finding 151668 (</think>)\n",
    "#     index = len(output_ids) - output_ids[::-1].index(151668)\n",
    "# except ValueError:\n",
    "#     index = 0\n",
    "\n",
    "# thinking_content = tokenizer.decode(output_ids[:index], skip_special_tokens=True).strip(\"\\n\")\n",
    "# content = tokenizer.decode(output_ids[index:], skip_special_tokens=True).strip(\"\\n\")\n",
    "\n",
    "# print(\"thinking content:\", thinking_content)\n",
    "# print(\"content:\", content)"
   ]
  },
  {
   "cell_type": "markdown",
   "id": "e8dc5f51",
   "metadata": {
    "papermill": {
     "duration": 0.009955,
     "end_time": "2025-10-20T00:13:19.411519",
     "exception": false,
     "start_time": "2025-10-20T00:13:19.401564",
     "status": "completed"
    },
    "tags": []
   },
   "source": [
    "# Train"
   ]
  },
  {
   "cell_type": "markdown",
   "id": "159fca87",
   "metadata": {
    "papermill": {
     "duration": 0.010237,
     "end_time": "2025-10-20T00:13:19.431896",
     "exception": false,
     "start_time": "2025-10-20T00:13:19.421659",
     "status": "completed"
    },
    "tags": []
   },
   "source": [
    "## Bert"
   ]
  },
  {
   "cell_type": "code",
   "execution_count": 42,
   "id": "5a15a0a6",
   "metadata": {
    "execution": {
     "iopub.execute_input": "2025-10-20T00:13:19.453144Z",
     "iopub.status.busy": "2025-10-20T00:13:19.452915Z",
     "iopub.status.idle": "2025-10-20T00:13:23.749720Z",
     "shell.execute_reply": "2025-10-20T00:13:23.748950Z"
    },
    "papermill": {
     "duration": 4.30901,
     "end_time": "2025-10-20T00:13:23.751162",
     "exception": false,
     "start_time": "2025-10-20T00:13:19.442152",
     "status": "completed"
    },
    "tags": []
   },
   "outputs": [],
   "source": [
    "# Move model to GPU if available\n",
    "device = torch.device('cuda') if torch.cuda.is_available() else torch.device('cpu')\n",
    "model = model.to(device)"
   ]
  },
  {
   "cell_type": "code",
   "execution_count": 43,
   "id": "bd651a8b",
   "metadata": {
    "execution": {
     "iopub.execute_input": "2025-10-20T00:13:23.774654Z",
     "iopub.status.busy": "2025-10-20T00:13:23.774405Z",
     "iopub.status.idle": "2025-10-20T00:13:26.965354Z",
     "shell.execute_reply": "2025-10-20T00:13:26.964427Z"
    },
    "papermill": {
     "duration": 3.204144,
     "end_time": "2025-10-20T00:13:26.966506",
     "exception": false,
     "start_time": "2025-10-20T00:13:23.762362",
     "status": "completed"
    },
    "tags": []
   },
   "outputs": [
    {
     "name": "stdout",
     "output_type": "stream",
     "text": [
      "Training Comments : (2110,)\n",
      "Input Ids         : torch.Size([2110, 256])\n",
      "Attention Mask    : torch.Size([2110, 256])\n",
      "Labels            : torch.Size([2110])\n"
     ]
    }
   ],
   "source": [
    "# Tokenize and Encode the comments and labels for the training set\n",
    "def embedding_text(tokenizer, X_train, y_train, token_max_length=token_max_length):\n",
    "    input_ids, attention_masks, labels = tokenize_and_encode(\n",
    "        tokenizer,\n",
    "        X_train,\n",
    "        y_train.values,\n",
    "        token_max_length,\n",
    "    )\n",
    "\n",
    "    return input_ids, attention_masks, labels\n",
    "\n",
    "input_ids, attention_masks, labels = embedding_text(tokenizer, X_train, y_train)\n",
    "\n",
    "# Tokenize and Encode the comments and labels for the validation set\n",
    "val_input_ids, val_attention_masks, val_labels = tokenize_and_encode(\n",
    "    tokenizer,\n",
    "    X_val,\n",
    "    y_val.values,\n",
    "    token_max_length,\n",
    ")\n",
    "\n",
    "print('Training Comments :',X_train.shape)\n",
    "print('Input Ids         :',input_ids.shape)\n",
    "print('Attention Mask    :',attention_masks.shape)\n",
    "print('Labels            :',labels.shape)"
   ]
  },
  {
   "cell_type": "code",
   "execution_count": 44,
   "id": "74887fc4",
   "metadata": {
    "execution": {
     "iopub.execute_input": "2025-10-20T00:13:26.989417Z",
     "iopub.status.busy": "2025-10-20T00:13:26.989186Z",
     "iopub.status.idle": "2025-10-20T00:13:26.993037Z",
     "shell.execute_reply": "2025-10-20T00:13:26.992514Z"
    },
    "papermill": {
     "duration": 0.01618,
     "end_time": "2025-10-20T00:13:26.994165",
     "exception": false,
     "start_time": "2025-10-20T00:13:26.977985",
     "status": "completed"
    },
    "tags": []
   },
   "outputs": [],
   "source": [
    "# Creating DataLoader for the balanced dataset\n",
    "train_dataset = TensorDataset(input_ids, attention_masks, labels)\n",
    "train_loader = DataLoader(train_dataset, batch_size=batch_size, shuffle=True)\n",
    "\n",
    "# validation set \n",
    "val_dataset = TensorDataset(val_input_ids, val_attention_masks, val_labels)\n",
    "val_loader = DataLoader(val_dataset, batch_size=batch_size, shuffle=False)"
   ]
  },
  {
   "cell_type": "code",
   "execution_count": 45,
   "id": "1661773b",
   "metadata": {
    "execution": {
     "iopub.execute_input": "2025-10-20T00:13:27.015267Z",
     "iopub.status.busy": "2025-10-20T00:13:27.015054Z",
     "iopub.status.idle": "2025-10-20T00:13:27.018226Z",
     "shell.execute_reply": "2025-10-20T00:13:27.017653Z"
    },
    "papermill": {
     "duration": 0.014995,
     "end_time": "2025-10-20T00:13:27.019271",
     "exception": false,
     "start_time": "2025-10-20T00:13:27.004276",
     "status": "completed"
    },
    "tags": []
   },
   "outputs": [],
   "source": [
    "# def plot_traing(train_losses, val_losses, train_f1s, val_f1s):\n",
    "\n",
    "#     plt.figure(figsize=(12, 5))\n",
    "\n",
    "#     # Training Loss & Validation Loss\n",
    "#     plt.subplot(1, 2, 1)\n",
    "#     plt.plot(train_losses, label='Train Loss')\n",
    "#     plt.plot(val_losses, label='Val Loss')\n",
    "#     plt.xlabel('Epoch')\n",
    "#     plt.ylabel('Loss')\n",
    "#     plt.title('Loss over Epochs')\n",
    "#     plt.legend()\n",
    "\n",
    "#     # Training Accuracy & Validation F1 Score\n",
    "#     plt.subplot(1, 2, 2)\n",
    "#     plt.plot(train_f1s, label='Train Accuracy')\n",
    "#     plt.plot(val_f1s, label='Val F1 Score')\n",
    "#     plt.xlabel('Epoch')\n",
    "#     plt.ylabel('Score')\n",
    "#     plt.title('Accuracy & F1 Score over Epochs')\n",
    "#     plt.legend()\n",
    "\n",
    "#     plt.tight_layout()\n",
    "#     plt.show()"
   ]
  },
  {
   "cell_type": "code",
   "execution_count": 46,
   "id": "6e2c2d4c",
   "metadata": {
    "execution": {
     "iopub.execute_input": "2025-10-20T00:13:27.040622Z",
     "iopub.status.busy": "2025-10-20T00:13:27.040417Z",
     "iopub.status.idle": "2025-10-20T00:13:27.406937Z",
     "shell.execute_reply": "2025-10-20T00:13:27.406363Z"
    },
    "papermill": {
     "duration": 0.378362,
     "end_time": "2025-10-20T00:13:27.408012",
     "exception": false,
     "start_time": "2025-10-20T00:13:27.029650",
     "status": "completed"
    },
    "tags": []
   },
   "outputs": [],
   "source": [
    "import copy\n",
    "from sklearn.metrics import accuracy_score, f1_score\n",
    "from sklearn.metrics import roc_auc_score\n",
    "\n",
    "def train_model(model, train_loader, val_loader, device, num_epochs, patience=5):\n",
    "    # loss_fn = nn.BCELoss()  # binary cross entropy\n",
    "    loss_fn = nn.BCEWithLogitsLoss()\n",
    "    optimizer = optim.Adam(model.parameters(), lr=2e-5)\n",
    "\n",
    "    # loss_fn = nn.BCEWithLogitsLoss()  \n",
    "    # optimizer = optim.AdamW(model.parameters(), lr=1e-4)\n",
    "    \n",
    "    best_f1 = -1.0\n",
    "    # best_auc = -1.0\n",
    "    epochs_no_improve = 0\n",
    "    best_state = None\n",
    "\n",
    "    train_losses, val_losses, train_f1s, val_f1s = [], [], [], []\n",
    "    # train_losses, val_losses, train_aucs, val_aucs = [], [], [], []\n",
    "    \n",
    "    for epoch in range(num_epochs):\n",
    "\n",
    "        model.train()\n",
    "        total_loss = 0.0\n",
    "        all_train_preds, all_train_labels = [], []\n",
    "        # train\n",
    "        for batch in train_loader:\n",
    "            \n",
    "            input_ids, attention_mask, labels = [t.to(device) for t in batch]\n",
    "            labels = labels.float()\n",
    "\n",
    "            # prediction (number of batches)\n",
    "            output = model(input_ids=input_ids, attention_mask=attention_mask)\n",
    "            logits = output.logits.squeeze(-1)\n",
    "            probs = torch.sigmoid(logits)  # convert logits to probabilities first\n",
    "            # print(logits) # DEBUG\n",
    "                 \n",
    "            # forward pass\n",
    "            # loss = loss_fn(probs, labels)\n",
    "            loss = loss_fn(logits, labels)\n",
    "            # print(loss) # DEBUG\n",
    "            \n",
    "            total_loss += loss.item()\n",
    "\n",
    "            # backward pass\n",
    "            optimizer.zero_grad()\n",
    "            loss.backward()\n",
    "            \n",
    "            # update weights\n",
    "            optimizer.step()\n",
    "\n",
    "            preds = (probs > 0.5).long()\n",
    "            all_train_preds.extend(preds.cpu().tolist())\n",
    "            all_train_labels.extend(labels.cpu().tolist())\n",
    "            \n",
    "        train_loss = total_loss / len(train_loader)\n",
    "        train_f1 = f1_score(all_train_labels, all_train_preds, average='macro')\n",
    "\n",
    "        train_losses.append(train_loss)\n",
    "        train_f1s.append(train_f1)\n",
    "        \n",
    "        # Validate\n",
    "        model.eval()\n",
    "        val_loss = 0.0\n",
    "        all_preds, all_labels = [], []\n",
    "        with torch.no_grad():\n",
    "            for batch in val_loader:\n",
    "                \n",
    "                input_ids, attention_mask, labels = [t.to(device) for t in batch]\n",
    "                labels = labels.float()\n",
    "                output = model(input_ids=input_ids, attention_mask=attention_mask)\n",
    "                logits = output.logits.squeeze(-1)\n",
    "                probs = torch.sigmoid(logits)\n",
    "                \n",
    "                # val_loss += loss_fn(probs, labels.float()).item()\n",
    "                val_loss += loss_fn(logits, labels.float()).item()\n",
    "                \n",
    "                preds = (probs > 0.5).long()\n",
    "                all_preds.extend(preds.cpu().tolist())\n",
    "                all_labels.extend(labels.cpu().tolist())\n",
    "                \n",
    "        val_f1 = f1_score(all_labels, all_preds, average='macro')\n",
    "        val_f1s.append(val_f1)\n",
    "        \n",
    "        val_losses.append(val_loss)\n",
    "        val_loss /= len(val_loader)\n",
    "        \n",
    "        print(f\"Epoch {epoch+1}/{num_epochs} - \"\n",
    "              f\"Train Loss: {train_loss:.4f}, Train Acc: {train_f1:.4f} - \"\n",
    "              f\"Val Loss: {val_loss:.4f}, Val F1: {val_f1:.4f}\")\n",
    "\n",
    "        if val_f1 > best_f1:\n",
    "            best_f1 = val_f1\n",
    "            epochs_no_improve = 0\n",
    "            best_state = copy.deepcopy(model.state_dict())\n",
    "        else:\n",
    "            epochs_no_improve += 1\n",
    "            if epochs_no_improve >= patience:\n",
    "                print(f\"Early stopping (no val F1 improvement for {patience} epochs). Best Val F1: {best_f1:.4f}\")\n",
    "                break\n",
    "\n",
    "    if best_state is not None:\n",
    "        model.load_state_dict(best_state)\n",
    "\n",
    "    # visualize training\n",
    "    # plot_traing(train_losses, val_losses, train_f1s, val_f1s)\n",
    "    \n",
    "    return model"
   ]
  },
  {
   "cell_type": "code",
   "execution_count": 47,
   "id": "e3cd29d8",
   "metadata": {
    "execution": {
     "iopub.execute_input": "2025-10-20T00:13:27.429935Z",
     "iopub.status.busy": "2025-10-20T00:13:27.429697Z",
     "iopub.status.idle": "2025-10-20T00:22:07.920974Z",
     "shell.execute_reply": "2025-10-20T00:22:07.920125Z"
    },
    "papermill": {
     "duration": 520.514545,
     "end_time": "2025-10-20T00:22:07.933161",
     "exception": false,
     "start_time": "2025-10-20T00:13:27.418616",
     "status": "completed"
    },
    "tags": []
   },
   "outputs": [
    {
     "name": "stdout",
     "output_type": "stream",
     "text": [
      "Epoch 1/5 - Train Loss: 0.5707, Train Acc: 0.6999 - Val Loss: 0.4153, Val F1: 0.8421\n",
      "Epoch 2/5 - Train Loss: 0.2848, Train Acc: 0.8934 - Val Loss: 0.2854, Val F1: 0.9012\n",
      "Epoch 3/5 - Train Loss: 0.1206, Train Acc: 0.9697 - Val Loss: 0.2465, Val F1: 0.9091\n",
      "Epoch 4/5 - Train Loss: 0.0966, Train Acc: 0.9720 - Val Loss: 0.2461, Val F1: 0.9242\n",
      "Epoch 5/5 - Train Loss: 0.0524, Train Acc: 0.9877 - Val Loss: 0.2909, Val F1: 0.9129\n"
     ]
    }
   ],
   "source": [
    "# Call the function to train the model\n",
    "model = train_model(model, train_loader, val_loader, device, num_epochs=5, patience=2)"
   ]
  },
  {
   "cell_type": "markdown",
   "id": "b96a23d6",
   "metadata": {
    "papermill": {
     "duration": 0.010488,
     "end_time": "2025-10-20T00:22:07.954627",
     "exception": false,
     "start_time": "2025-10-20T00:22:07.944139",
     "status": "completed"
    },
    "tags": []
   },
   "source": [
    "## roberta"
   ]
  },
  {
   "cell_type": "code",
   "execution_count": 48,
   "id": "aa6704e8",
   "metadata": {
    "execution": {
     "iopub.execute_input": "2025-10-20T00:22:07.976370Z",
     "iopub.status.busy": "2025-10-20T00:22:07.976125Z",
     "iopub.status.idle": "2025-10-20T00:22:07.979449Z",
     "shell.execute_reply": "2025-10-20T00:22:07.978728Z"
    },
    "papermill": {
     "duration": 0.015647,
     "end_time": "2025-10-20T00:22:07.980643",
     "exception": false,
     "start_time": "2025-10-20T00:22:07.964996",
     "status": "completed"
    },
    "tags": []
   },
   "outputs": [],
   "source": [
    "# device = torch.device('cuda') if torch.cuda.is_available() else torch.device('cpu')\n",
    "# model_2 = model_2.to(device)"
   ]
  },
  {
   "cell_type": "code",
   "execution_count": 49,
   "id": "e625414a",
   "metadata": {
    "execution": {
     "iopub.execute_input": "2025-10-20T00:22:08.002209Z",
     "iopub.status.busy": "2025-10-20T00:22:08.001983Z",
     "iopub.status.idle": "2025-10-20T00:22:08.005229Z",
     "shell.execute_reply": "2025-10-20T00:22:08.004542Z"
    },
    "papermill": {
     "duration": 0.015283,
     "end_time": "2025-10-20T00:22:08.006268",
     "exception": false,
     "start_time": "2025-10-20T00:22:07.990985",
     "status": "completed"
    },
    "tags": []
   },
   "outputs": [],
   "source": [
    "# model_2 = train_model(model_2, train_loader_2, val_loader_2, device, num_epochs=5, patience=2)"
   ]
  },
  {
   "cell_type": "markdown",
   "id": "4b7a7a93",
   "metadata": {
    "papermill": {
     "duration": 0.010422,
     "end_time": "2025-10-20T00:22:08.027424",
     "exception": false,
     "start_time": "2025-10-20T00:22:08.017002",
     "status": "completed"
    },
    "tags": []
   },
   "source": [
    "# Inference"
   ]
  },
  {
   "cell_type": "code",
   "execution_count": 50,
   "id": "cafa8ad0",
   "metadata": {
    "execution": {
     "iopub.execute_input": "2025-10-20T00:22:08.049330Z",
     "iopub.status.busy": "2025-10-20T00:22:08.049124Z",
     "iopub.status.idle": "2025-10-20T00:22:08.052823Z",
     "shell.execute_reply": "2025-10-20T00:22:08.052257Z"
    },
    "papermill": {
     "duration": 0.015756,
     "end_time": "2025-10-20T00:22:08.053790",
     "exception": false,
     "start_time": "2025-10-20T00:22:08.038034",
     "status": "completed"
    },
    "tags": []
   },
   "outputs": [],
   "source": [
    "def add_rule_and_subreddit(df):\n",
    "\n",
    "    new_df = pd.DataFrame()\n",
    "    \n",
    "    new_df[\"data\"] = \"Rule: \" + df[\"rule\"] + \\\n",
    "              \" Subreddit: \" + df[\"subreddit\"] + \\\n",
    "              \" Comment: \" + df['body']\n",
    "    \n",
    "    new_df[\"row_id\"] = df[\"row_id\"]\n",
    "\n",
    "    return new_df"
   ]
  },
  {
   "cell_type": "code",
   "execution_count": 51,
   "id": "477deaf6",
   "metadata": {
    "execution": {
     "iopub.execute_input": "2025-10-20T00:22:08.075165Z",
     "iopub.status.busy": "2025-10-20T00:22:08.074963Z",
     "iopub.status.idle": "2025-10-20T00:22:08.085254Z",
     "shell.execute_reply": "2025-10-20T00:22:08.084658Z"
    },
    "papermill": {
     "duration": 0.022232,
     "end_time": "2025-10-20T00:22:08.086374",
     "exception": false,
     "start_time": "2025-10-20T00:22:08.064142",
     "status": "completed"
    },
    "tags": []
   },
   "outputs": [],
   "source": [
    "# Align with train data \n",
    "df_test = add_rule_and_subreddit(df_test)\n",
    "df_test[\"data\"] = df_test['data'].apply(clean_text)"
   ]
  },
  {
   "cell_type": "code",
   "execution_count": 52,
   "id": "4b4e1145",
   "metadata": {
    "execution": {
     "iopub.execute_input": "2025-10-20T00:22:08.107714Z",
     "iopub.status.busy": "2025-10-20T00:22:08.107544Z",
     "iopub.status.idle": "2025-10-20T00:22:08.111560Z",
     "shell.execute_reply": "2025-10-20T00:22:08.111088Z"
    },
    "papermill": {
     "duration": 0.016008,
     "end_time": "2025-10-20T00:22:08.112680",
     "exception": false,
     "start_time": "2025-10-20T00:22:08.096672",
     "status": "completed"
    },
    "tags": []
   },
   "outputs": [],
   "source": [
    "def tokenize_test(tokenizer, comments, max_length):\n",
    "    input_ids, attention_masks = [], []\n",
    "    for comment in comments:\n",
    "        enc = tokenizer.encode_plus(\n",
    "            comment,\n",
    "            add_special_tokens=True,\n",
    "            truncation=True,\n",
    "            max_length=max_length,\n",
    "            padding=\"max_length\",\n",
    "            return_attention_mask=True,\n",
    "            return_tensors=\"pt\",\n",
    "        )\n",
    "        input_ids.append(enc[\"input_ids\"])\n",
    "        attention_masks.append(enc[\"attention_mask\"])\n",
    "    return torch.cat(input_ids, dim=0), torch.cat(attention_masks, dim=0)"
   ]
  },
  {
   "cell_type": "code",
   "execution_count": 53,
   "id": "6f85e9e7",
   "metadata": {
    "execution": {
     "iopub.execute_input": "2025-10-20T00:22:08.134463Z",
     "iopub.status.busy": "2025-10-20T00:22:08.134289Z",
     "iopub.status.idle": "2025-10-20T00:22:08.150695Z",
     "shell.execute_reply": "2025-10-20T00:22:08.150191Z"
    },
    "papermill": {
     "duration": 0.028151,
     "end_time": "2025-10-20T00:22:08.151676",
     "exception": false,
     "start_time": "2025-10-20T00:22:08.123525",
     "status": "completed"
    },
    "tags": []
   },
   "outputs": [],
   "source": [
    "test_input_ids, test_attention_masks = tokenize_test(tokenizer, df_test[\"data\"], max_length=token_max_length)\n",
    "test_dataset = TensorDataset(test_input_ids, test_attention_masks)\n",
    "test_loader  = DataLoader(test_dataset, batch_size=32, shuffle=False)"
   ]
  },
  {
   "cell_type": "code",
   "execution_count": 54,
   "id": "4fe313ee",
   "metadata": {
    "execution": {
     "iopub.execute_input": "2025-10-20T00:22:08.173201Z",
     "iopub.status.busy": "2025-10-20T00:22:08.173009Z",
     "iopub.status.idle": "2025-10-20T00:22:08.177487Z",
     "shell.execute_reply": "2025-10-20T00:22:08.176770Z"
    },
    "papermill": {
     "duration": 0.01628,
     "end_time": "2025-10-20T00:22:08.178497",
     "exception": false,
     "start_time": "2025-10-20T00:22:08.162217",
     "status": "completed"
    },
    "tags": []
   },
   "outputs": [],
   "source": [
    "def predict(model, loader, device):\n",
    "    model.eval()\n",
    "    all_preds = []\n",
    "    all_probs = []\n",
    "    \n",
    "    with torch.no_grad():\n",
    "        for batch in loader:\n",
    "            input_ids, attention_mask = [t.to(device) for t in batch]\n",
    "            \n",
    "            output = model(input_ids=input_ids, attention_mask=attention_mask)\n",
    "\n",
    "            logits = output.logits.squeeze(-1)\n",
    "            probs = torch.sigmoid(logits)\n",
    "            all_probs.extend(probs.cpu().tolist())\n",
    "            \n",
    "    return all_probs"
   ]
  },
  {
   "cell_type": "code",
   "execution_count": 55,
   "id": "2c9321e6",
   "metadata": {
    "execution": {
     "iopub.execute_input": "2025-10-20T00:22:08.199717Z",
     "iopub.status.busy": "2025-10-20T00:22:08.199520Z",
     "iopub.status.idle": "2025-10-20T00:22:08.359514Z",
     "shell.execute_reply": "2025-10-20T00:22:08.358869Z"
    },
    "papermill": {
     "duration": 0.172068,
     "end_time": "2025-10-20T00:22:08.360778",
     "exception": false,
     "start_time": "2025-10-20T00:22:08.188710",
     "status": "completed"
    },
    "tags": []
   },
   "outputs": [],
   "source": [
    "res = predict(model, test_loader, device)"
   ]
  },
  {
   "cell_type": "code",
   "execution_count": 56,
   "id": "4b5348fc",
   "metadata": {
    "execution": {
     "iopub.execute_input": "2025-10-20T00:22:08.383915Z",
     "iopub.status.busy": "2025-10-20T00:22:08.383316Z",
     "iopub.status.idle": "2025-10-20T00:22:08.387301Z",
     "shell.execute_reply": "2025-10-20T00:22:08.386791Z"
    },
    "papermill": {
     "duration": 0.016378,
     "end_time": "2025-10-20T00:22:08.388422",
     "exception": false,
     "start_time": "2025-10-20T00:22:08.372044",
     "status": "completed"
    },
    "tags": []
   },
   "outputs": [],
   "source": [
    "submission = pd.DataFrame(df_test[\"row_id\"])\n",
    "submission[\"rule_violation\"] = res"
   ]
  },
  {
   "cell_type": "code",
   "execution_count": 57,
   "id": "79fa9728",
   "metadata": {
    "execution": {
     "iopub.execute_input": "2025-10-20T00:22:08.410207Z",
     "iopub.status.busy": "2025-10-20T00:22:08.410020Z",
     "iopub.status.idle": "2025-10-20T00:22:08.417010Z",
     "shell.execute_reply": "2025-10-20T00:22:08.416251Z"
    },
    "papermill": {
     "duration": 0.019032,
     "end_time": "2025-10-20T00:22:08.418020",
     "exception": false,
     "start_time": "2025-10-20T00:22:08.398988",
     "status": "completed"
    },
    "tags": []
   },
   "outputs": [
    {
     "data": {
      "text/html": [
       "<div>\n",
       "<style scoped>\n",
       "    .dataframe tbody tr th:only-of-type {\n",
       "        vertical-align: middle;\n",
       "    }\n",
       "\n",
       "    .dataframe tbody tr th {\n",
       "        vertical-align: top;\n",
       "    }\n",
       "\n",
       "    .dataframe thead th {\n",
       "        text-align: right;\n",
       "    }\n",
       "</style>\n",
       "<table border=\"1\" class=\"dataframe\">\n",
       "  <thead>\n",
       "    <tr style=\"text-align: right;\">\n",
       "      <th></th>\n",
       "      <th>row_id</th>\n",
       "      <th>rule_violation</th>\n",
       "    </tr>\n",
       "  </thead>\n",
       "  <tbody>\n",
       "    <tr>\n",
       "      <th>0</th>\n",
       "      <td>2029</td>\n",
       "      <td>0.068469</td>\n",
       "    </tr>\n",
       "    <tr>\n",
       "      <th>1</th>\n",
       "      <td>2030</td>\n",
       "      <td>0.036338</td>\n",
       "    </tr>\n",
       "    <tr>\n",
       "      <th>2</th>\n",
       "      <td>2031</td>\n",
       "      <td>0.948556</td>\n",
       "    </tr>\n",
       "    <tr>\n",
       "      <th>3</th>\n",
       "      <td>2032</td>\n",
       "      <td>0.979405</td>\n",
       "    </tr>\n",
       "    <tr>\n",
       "      <th>4</th>\n",
       "      <td>2033</td>\n",
       "      <td>0.982907</td>\n",
       "    </tr>\n",
       "    <tr>\n",
       "      <th>5</th>\n",
       "      <td>2034</td>\n",
       "      <td>0.023390</td>\n",
       "    </tr>\n",
       "    <tr>\n",
       "      <th>6</th>\n",
       "      <td>2035</td>\n",
       "      <td>0.942690</td>\n",
       "    </tr>\n",
       "    <tr>\n",
       "      <th>7</th>\n",
       "      <td>2036</td>\n",
       "      <td>0.017932</td>\n",
       "    </tr>\n",
       "    <tr>\n",
       "      <th>8</th>\n",
       "      <td>2037</td>\n",
       "      <td>0.009992</td>\n",
       "    </tr>\n",
       "    <tr>\n",
       "      <th>9</th>\n",
       "      <td>2038</td>\n",
       "      <td>0.985661</td>\n",
       "    </tr>\n",
       "  </tbody>\n",
       "</table>\n",
       "</div>"
      ],
      "text/plain": [
       "   row_id  rule_violation\n",
       "0    2029        0.068469\n",
       "1    2030        0.036338\n",
       "2    2031        0.948556\n",
       "3    2032        0.979405\n",
       "4    2033        0.982907\n",
       "5    2034        0.023390\n",
       "6    2035        0.942690\n",
       "7    2036        0.017932\n",
       "8    2037        0.009992\n",
       "9    2038        0.985661"
      ]
     },
     "execution_count": 57,
     "metadata": {},
     "output_type": "execute_result"
    }
   ],
   "source": [
    "submission"
   ]
  },
  {
   "cell_type": "code",
   "execution_count": 58,
   "id": "9dd75d16",
   "metadata": {
    "execution": {
     "iopub.execute_input": "2025-10-20T00:22:08.440140Z",
     "iopub.status.busy": "2025-10-20T00:22:08.439953Z",
     "iopub.status.idle": "2025-10-20T00:22:08.449384Z",
     "shell.execute_reply": "2025-10-20T00:22:08.448874Z"
    },
    "papermill": {
     "duration": 0.021783,
     "end_time": "2025-10-20T00:22:08.450459",
     "exception": false,
     "start_time": "2025-10-20T00:22:08.428676",
     "status": "completed"
    },
    "tags": []
   },
   "outputs": [],
   "source": [
    "submission.to_csv('submission.csv', index=False)"
   ]
  }
 ],
 "metadata": {
  "kaggle": {
   "accelerator": "nvidiaTeslaT4",
   "dataSources": [
    {
     "databundleVersionId": 13121456,
     "isSourceIdPinned": false,
     "sourceId": 94635,
     "sourceType": "competition"
    },
    {
     "datasetId": 8410972,
     "sourceId": 13272190,
     "sourceType": "datasetVersion"
    },
    {
     "datasetId": 8431113,
     "sourceId": 13301573,
     "sourceType": "datasetVersion"
    },
    {
     "isSourceIdPinned": false,
     "modelId": 164048,
     "modelInstanceId": 141432,
     "sourceId": 166218,
     "sourceType": "modelInstanceVersion"
    },
    {
     "isSourceIdPinned": false,
     "modelId": 164048,
     "modelInstanceId": 141458,
     "sourceId": 166245,
     "sourceType": "modelInstanceVersion"
    },
    {
     "isSourceIdPinned": true,
     "modelId": 407569,
     "modelInstanceId": 388639,
     "sourceId": 487276,
     "sourceType": "modelInstanceVersion"
    }
   ],
   "dockerImageVersionId": 31090,
   "isGpuEnabled": true,
   "isInternetEnabled": false,
   "language": "python",
   "sourceType": "notebook"
  },
  "kernelspec": {
   "display_name": "Python 3",
   "language": "python",
   "name": "python3"
  },
  "language_info": {
   "codemirror_mode": {
    "name": "ipython",
    "version": 3
   },
   "file_extension": ".py",
   "mimetype": "text/x-python",
   "name": "python",
   "nbconvert_exporter": "python",
   "pygments_lexer": "ipython3",
   "version": "3.11.13"
  },
  "papermill": {
   "default_parameters": {},
   "duration": 578.650254,
   "end_time": "2025-10-20T00:22:11.523852",
   "environment_variables": {},
   "exception": null,
   "input_path": "__notebook__.ipynb",
   "output_path": "__notebook__.ipynb",
   "parameters": {},
   "start_time": "2025-10-20T00:12:32.873598",
   "version": "2.6.0"
  }
 },
 "nbformat": 4,
 "nbformat_minor": 5
}
